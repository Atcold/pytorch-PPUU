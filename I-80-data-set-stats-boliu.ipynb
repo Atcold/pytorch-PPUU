{
 "cells": [
  {
   "cell_type": "markdown",
   "metadata": {},
   "source": [
    "# NGSIM I-80 freeway data set stats"
   ]
  },
  {
   "cell_type": "code",
   "execution_count": 1,
   "metadata": {},
   "outputs": [],
   "source": [
    "import pandas as pd\n",
    "from matplotlib.pylab import *\n",
    "style.use(['dark_background', 'bmh'])\n",
    "rc('axes', facecolor='none')"
   ]
  },
  {
   "cell_type": "code",
   "execution_count": 2,
   "metadata": {},
   "outputs": [],
   "source": [
    "file_name = '/home/boliu/Projects/pytorch-Traffic-Simulator/data_i80/'\n",
    "file_names = [\n",
    "    file_name + 'trajectories-0400-0415.txt',\n",
    "    file_name + 'trajectories-0500-0515.txt',\n",
    "    file_name + 'trajectories-0515-0530.txt',\n",
    "]"
   ]
  },
  {
   "cell_type": "code",
   "execution_count": 3,
   "metadata": {},
   "outputs": [],
   "source": [
    "df = list()\n",
    "for file_name in file_names:\n",
    "    df.append(\n",
    "        pd.read_table(file_name, sep='\\s+', header=None, names=(\n",
    "            'Vehicle ID',\n",
    "            'Frame ID',\n",
    "            'Total Frames',\n",
    "            'Global Time',\n",
    "            'Local X',\n",
    "            'Local Y',\n",
    "            'Global X',\n",
    "            'Global Y',\n",
    "            'Vehicle Length',\n",
    "            'Vehicle Width',\n",
    "            'Vehicle Class',\n",
    "            'Vehicle Velocity',\n",
    "            'Vehicle Acceleration',\n",
    "            'Lane Identification',\n",
    "            'Preceding Vehicle',\n",
    "            'Following Vehicle',\n",
    "            'Spacing',\n",
    "            'Headway'\n",
    "        ))\n",
    "    )"
   ]
  },
  {
   "cell_type": "code",
   "execution_count": null,
   "metadata": {},
   "outputs": [],
   "source": [
    "# Total number of items\n",
    "sum([len(d) for d in df])"
   ]
  },
  {
   "cell_type": "markdown",
   "metadata": {},
   "source": [
    "Things we car to compute:\n",
    "\n",
    " - Total number of cars and data points\n",
    " - Histogram of neighbouring cars\n",
    " - Data set preprocessing\n",
    " - Location of recoding and map\n",
    " - Total time"
   ]
  },
  {
   "cell_type": "code",
   "execution_count": null,
   "metadata": {},
   "outputs": [],
   "source": [
    "cars = [set(d['Vehicle ID']) for d in df]\n",
    "nb_of_cars = [len(c) for c in cars]\n",
    "nb_of_cars, sum(nb_of_cars)"
   ]
  },
  {
   "cell_type": "code",
   "execution_count": null,
   "metadata": {},
   "outputs": [],
   "source": [
    "d = df[0]\n",
    "int(d[d['Vehicle ID'] == 300]['Frame ID'][:1])"
   ]
  },
  {
   "cell_type": "code",
   "execution_count": null,
   "metadata": {},
   "outputs": [],
   "source": [
    "frames = set(d['Frame ID'])"
   ]
  },
  {
   "cell_type": "code",
   "execution_count": null,
   "metadata": {},
   "outputs": [],
   "source": [
    "print(min(frames), max(frames))"
   ]
  },
  {
   "cell_type": "code",
   "execution_count": null,
   "metadata": {},
   "outputs": [],
   "source": [
    "now = d['Frame ID'] == 1089\n",
    "df_now = d[now]"
   ]
  },
  {
   "cell_type": "code",
   "execution_count": null,
   "metadata": {},
   "outputs": [],
   "source": [
    "car_now = list(df_now['Vehicle ID'])"
   ]
  },
  {
   "cell_type": "code",
   "execution_count": null,
   "metadata": {},
   "outputs": [],
   "source": [
    "MAX_SPEED = 130  # km / h\n",
    "FOOT = 0.3048  # metres per foot\n",
    "delta_x = 130 * 1000 / 3600 / FOOT\n",
    "delta_y = 2 * 3.7 / FOOT\n",
    "print(f'dx: {delta_x:.2f}, dy: {delta_y:.2f}')"
   ]
  },
  {
   "cell_type": "code",
   "execution_count": null,
   "metadata": {},
   "outputs": [],
   "source": [
    "i = car_now.index(237)\n",
    "x = df_now.at[df_now.index[i], 'Local Y'] - df_now.at[df_now.index[i], 'Vehicle Length'] / 2\n",
    "y = df_now.at[df_now.index[i], 'Local X']\n",
    "car_id = df_now.at[df_now.index[i], 'Vehicle ID']\n",
    "print(f'ID: {car_id}, x: {x:.2f}, y: {y:.2f}')"
   ]
  },
  {
   "cell_type": "code",
   "execution_count": null,
   "metadata": {},
   "outputs": [],
   "source": [
    "within_x = df_now['Local Y'].between(x - delta_x, x + delta_x)\n",
    "within_y = df_now['Local X'].between(y - delta_y, y + delta_y)\n",
    "neighbours = df_now[within_x & within_y]"
   ]
  },
  {
   "cell_type": "code",
   "execution_count": null,
   "metadata": {},
   "outputs": [],
   "source": [
    "len(neighbours)"
   ]
  },
  {
   "cell_type": "code",
   "execution_count": null,
   "metadata": {},
   "outputs": [],
   "source": [
    "for i in range(len(neighbours)):\n",
    "    plot(neighbours.at[neighbours.index[i], 'Local X'], neighbours.at[neighbours.index[i], 'Local Y'], 'o')\n",
    "axis('equal')\n",
    "axhline(x - delta_x); axhline(x + delta_x)\n",
    "axvline(y - delta_y); axvline(y + delta_y);"
   ]
  },
  {
   "cell_type": "markdown",
   "metadata": {},
   "source": [
    "![state](im00025.png)"
   ]
  },
  {
   "cell_type": "code",
   "execution_count": null,
   "metadata": {},
   "outputs": [],
   "source": [
    "from tqdm import tqdm"
   ]
  },
  {
   "cell_type": "code",
   "execution_count": null,
   "metadata": {},
   "outputs": [],
   "source": [
    "d = df[2]\n",
    "frames = set(d['Frame ID'])\n",
    "cars_per_frame = list()\n",
    "neighbouring_cars = list()\n",
    "for frame in tqdm(frames):\n",
    "# frame = 1089\n",
    "    now = d['Frame ID'] == frame\n",
    "    df_now = d[now]\n",
    "    cars_per_frame.append(len(df_now))\n",
    "    for i in range(len(df_now)):\n",
    "        x = df_now.at[df_now.index[i], 'Local Y'] - df_now.at[df_now.index[i], 'Vehicle Length'] / 2\n",
    "        y = df_now.at[df_now.index[i], 'Local X']\n",
    "        within_x = df_now['Local Y'].between(x - delta_x, x + delta_x)\n",
    "        within_y = df_now['Local X'].between(y - delta_y, y + delta_y)\n",
    "        neighbours = df_now[within_x & within_y]\n",
    "        neighbouring_cars.append(len(neighbours))"
   ]
  },
  {
   "cell_type": "code",
   "execution_count": null,
   "metadata": {},
   "outputs": [],
   "source": [
    "len(cars_per_frame), len(neighbouring_cars)"
   ]
  },
  {
   "cell_type": "code",
   "execution_count": null,
   "metadata": {},
   "outputs": [],
   "source": [
    "len(cars_per_frame), len(neighbouring_cars)"
   ]
  },
  {
   "cell_type": "code",
   "execution_count": null,
   "metadata": {},
   "outputs": [],
   "source": [
    "len(cars_per_frame), len(neighbouring_cars)"
   ]
  },
  {
   "cell_type": "code",
   "execution_count": null,
   "metadata": {},
   "outputs": [],
   "source": [
    "cars_per_frame[5000:5010]"
   ]
  },
  {
   "cell_type": "code",
   "execution_count": null,
   "metadata": {},
   "outputs": [],
   "source": [
    "neighbouring_cars[600000:600010]"
   ]
  },
  {
   "cell_type": "code",
   "execution_count": null,
   "metadata": {},
   "outputs": [],
   "source": [
    "data_set_stats = {\n",
    "    16001615: {\n",
    "        'cars_per_frame': array(cars_per_frame, dtype=uint16),\n",
    "        'neighbouring_cars': array(neighbouring_cars, dtype=uint16)\n",
    "    }\n",
    "}"
   ]
  },
  {
   "cell_type": "code",
   "execution_count": null,
   "metadata": {},
   "outputs": [],
   "source": [
    "data_set_stats[17001715] = {\n",
    "    'cars_per_frame': array(cars_per_frame, dtype=uint16),\n",
    "    'neighbouring_cars': array(neighbouring_cars, dtype=uint16)\n",
    "}"
   ]
  },
  {
   "cell_type": "code",
   "execution_count": null,
   "metadata": {},
   "outputs": [],
   "source": [
    "data_set_stats[17151730] = {\n",
    "    'cars_per_frame': array(cars_per_frame, dtype=uint16),\n",
    "    'neighbouring_cars': array(neighbouring_cars, dtype=uint16)\n",
    "}"
   ]
  },
  {
   "cell_type": "code",
   "execution_count": null,
   "metadata": {},
   "outputs": [],
   "source": [
    "# save('data_set_stats', data_set_stats)\n",
    "data_set_stats = load('data_set_stats.npy').item()"
   ]
  },
  {
   "cell_type": "code",
   "execution_count": null,
   "metadata": {},
   "outputs": [],
   "source": [
    "tuple(data_set_stats.keys())"
   ]
  },
  {
   "cell_type": "code",
   "execution_count": null,
   "metadata": {},
   "outputs": [],
   "source": [
    "for a, b in data_set_stats.items():\n",
    "    print(f'time: {a}', *[f\"{c[0]}: {len(c[1])}\" for c in b.items()], sep=', ')"
   ]
  },
  {
   "cell_type": "code",
   "execution_count": null,
   "metadata": {},
   "outputs": [],
   "source": [
    "figure(figsize=(16,8))\n",
    "f = 1\n",
    "for a, b in data_set_stats.items():\n",
    "    subplot(2, 3, f)\n",
    "    hist(b['neighbouring_cars'], 100)\n",
    "    title(a)\n",
    "    xlabel('Number of neighbouring cars')\n",
    "    \n",
    "    subplot(2, 3, f + 3); f += 1\n",
    "    hist(b['cars_per_frame'], 100)\n",
    "    title(a)\n",
    "    xlabel('Number of cars per frame')\n",
    "    \n",
    "tight_layout()"
   ]
  },
  {
   "cell_type": "code",
   "execution_count": null,
   "metadata": {},
   "outputs": [],
   "source": [
    "frame = df[2]['Frame ID']\n",
    "min(frame), max(frame)"
   ]
  },
  {
   "cell_type": "code",
   "execution_count": null,
   "metadata": {},
   "outputs": [],
   "source": [
    "df2 = df[2]"
   ]
  },
  {
   "cell_type": "code",
   "execution_count": 4,
   "metadata": {},
   "outputs": [],
   "source": [
    "def check_collision(v, f, d):\n",
    "    \n",
    "    v1, v2 = v\n",
    "    f1, f2, f3 = f\n",
    "    \n",
    "    f1 = f3 - 30 if f1 is None else f1\n",
    "    f2 = f3 + 30 if f2 is None else f2\n",
    "\n",
    "    frames = df[d][(df[d]['Vehicle ID'] == v1) & df[d]['Frame ID'].between(f1, f2)]['Frame ID'].values\n",
    "    dfv1 = df[d][(df[d]['Vehicle ID'] == v1) & df[d]['Frame ID'].between(f1, f2)]\n",
    "    dfv2 = df[d][(df[d]['Vehicle ID'] == v2) & df[d]['Frame ID'].between(f1, f2)]\n",
    "\n",
    "    plt.figure(figsize=(18,6))\n",
    "    plt.axhline(ls='--')\n",
    "    plt.axvline(f3, ls='--')\n",
    "    plt.plot(frames, (dfv1['Local Y'].values - dfv2['Local Y'].values) * foot, label='x diff')\n",
    "    plt.plot(frames, -(dfv1['Local X'].values - dfv2['Local X'].values) * foot, label='y diff')\n",
    "\n",
    "    # plt.axis((f1, f2, -.2, 3))\n",
    "    plt.ylabel('inter-distance [m]')\n",
    "    plt.xlabel('frame index [ / ]')\n",
    "    plt.legend()\n",
    "    plt.title(f'Collision of vehicle {v1} and {v2}')\n",
    "\n",
    "    plt.axhline((dfv1['Vehicle Width'].iloc[0] + dfv2['Vehicle Width'].iloc[0]) * foot / 2, color='C1', ls='--')\n",
    "    plt.axhline(-(dfv1['Vehicle Width'].iloc[0] + dfv2['Vehicle Width'].iloc[0]) * foot / 2, color='C1', ls='--')\n",
    "    plt.axhline(dfv1['Vehicle Length'].iloc[0] * foot, color='C0', ls='--')\n",
    "    plt.text(f1, dfv1['Vehicle Length'].iloc[0] * foot + .3, f'vehicle {v1} length', color='C0')\n",
    "    plt.axhline(-dfv2['Vehicle Length'].iloc[0] * foot, color='C0', ls='--')\n",
    "    plt.text(f1, -dfv2['Vehicle Length'].iloc[0] * foot + .3, f'vehicle {v2} length', color='C0')\n"
   ]
  },
  {
   "cell_type": "code",
   "execution_count": 8,
   "metadata": {},
   "outputs": [
    {
     "data": {
      "image/png": "[encoded data removed]",
      "text/plain": [
       "<Figure size 1296x432 with 1 Axes>"
      ]
     },
     "metadata": {},
     "output_type": "display_data"
    }
   ],
   "source": [
    "d = 2\n",
    "\n",
    "# bug = 1635,269,295  # GTB\n",
    "bug = 1733,156,142  # max_dy\n",
    "# bug = 1893,3004,246  # GTB\n",
    "# bug = 2235,338,327  # max_dy\n",
    "# bug = 2681,493,510  # wiggly\n",
    "# bug = 2742,567,549  # GTB\n",
    "# bug = 3016,680,684  # max_dy\n",
    "# bug = 3265,769,722  # GTB\n",
    "# bug = 3498,790,811  # GTB (see above)\n",
    "# bug = 3633,797,815  # wiggly\n",
    "# bug = 3731,862,847  # max_dy\n",
    "# bug = 3875,870,860  # GTB\n",
    "# bug = 4465,1068,1084  # max_dy\n",
    "# bug = 4690,1163,1157  # max_dy\n",
    "# bug = 4878,1163,1153  # GTB / motor width\n",
    "# bug = 5166,1329,1322  # max_dy\n",
    "# bug = 5760,1552,1519  # max_dy + GTB?\n",
    "# bug = 6269,1603,1596  # GTB\n",
    "# bug = 6280,1651,1654  # GTB WTF\n",
    "# bug = 6365,1734,1748  # GTB WTF 2 (see above)\n",
    "# bug = 6628,1762,1767  # GTB\n",
    "# bug = 6684,1734,1742  # GTB WTF 3\n",
    "# bug = 6709,1800,1788  # GTB (see above)\n",
    "# bug = 6720,1727,1722  # GTB WTF 4 (see above)\n",
    "# bug = 7472,1926,1921  # GTB\n",
    "# bug = 7553,1868,1878  # GTB\n",
    "# bug = 8263,2061,2056  # GTB WTF 5\n",
    "# bug = 8345,2075,2141  # GTB\n",
    "# bug = 8449,2282,2258  # GTB WTF 6 (see above)\n",
    "# bug = 8568,2080,2122  # GTB\n",
    "# bug = 8757,2239,2252  # GTB\n",
    "# bug = 8910,2252,2239  # GTB\n",
    "# bug = 8952,2274,2285  # GTB WTF 7 (see next)\n",
    "# bug = 8979,2264,2285  # GTB WTF 7 cont.\n",
    "# bug = 9010,2263,2285  # GTB WTF 7 cont.\n",
    "# bug = 9056,2263,2285  # GTB WTF 7 cont.\n",
    "# bug = 9140,2264,2285  # GTB WTF 7 cont.\n",
    "# bug = 9180,2274,2285  # GTB WTF 7 cont.\n",
    "# bug = 9430,2370,2362  # GTB\n",
    "# bug = 9631,2369,2392  # max_dy\n",
    "# bug = 10035,2480,2468  # max_dy\n",
    "\n",
    "# d = 0\n",
    "\n",
    "# bug = 778,174,163  # wiggly\n",
    "# bug = 781,169,174  # max_dy\n",
    "# bug = 1033,189,186  # max_dy\n",
    "# bug = 1265,268,264  # max_dy + GTB?\n",
    "# bug = 1479,393,365  # max_dy\n",
    "# bug = 1533,394,406  # max_dy (very limiting)\n",
    "# bug = 1823,493,518  # max_dy\n",
    "# bug = 4800,1589,1606  # GTB\n",
    "# bug = 5083,1628,1629  # GTB\n",
    "# bug = 6459,2102,2089  # GTB WTF\n",
    "# bug = 6620,2143,2144  # GTB WTF\n",
    "# bug = 7157,3365,2326\n",
    "\n",
    "foot = 0.3048  # m\n",
    "check_collision(bug[1:], (None, None, bug[0]), d)"
   ]
  },
  {
   "cell_type": "code",
   "execution_count": null,
   "metadata": {},
   "outputs": [],
   "source": [
    "d = 2\n",
    "\n",
    "v =  790, 811; f = 3490, 3550, 3498\n",
    "v = 1734, 1748; f = 6070, 6682, 6300  # GTB WTF 2\n",
    "v = 1800, 1788; f = 6700,6820,6708\n",
    "v = 1727, 1722; f = 6710, 6800, 6720  # GTB WTF 4\n",
    "# v = 2258, 2282; f = 8350, 8530, 8400\n",
    "\n",
    "check_collision(v, f, d)"
   ]
  },
  {
   "cell_type": "markdown",
   "metadata": {},
   "source": [
    "# Traffic-Simulator\n",
    "\n",
    "Can you type anything? Aweomse!\n",
    "\n",
    "# Versions of `traffic_gym`\n",
    "\n",
    "* `v0`: rule-based traffic (ego car is just one of the cars)\n",
    "* `v1`: I-80 human drivers, I-80 map\n",
    "* `v2`: rules-based or imitation vehicles on I-80 map\n",
    "* `v3`: controlled ego car on I-80 map\n",
    "    * `v3` is the only one which is currently supporting an external policy\n",
    "\n",
    "**Bo**: for `v2`, why it is called `PatchedCar` and `MergingMap`?\n",
    "**Alf**: So, rules-based vehicles move online on horizontal lines. Here, I'm patching the `Car` class so that, if it's on the merging ramp, then I'm constantly updating `self._target_lane`, so that to give the impression is follows a slanted line. The PID controller simply follows a target, which is constantly changing, rather than been fixed on a specific lane.\n",
    "**Bo**: \n",
    "* sounds like a `LaneChangeCar` ?\n",
    "* So, it is not just Merging, but also Lane Change?\n",
    "\n",
    "**Alf**: hold on, what are you talking about?\n",
    "**Bo**: naming of the classes.\n",
    "\n",
    "`class Car` does move horizontally, brake, speed up, pass to the left or to the right, if safe.\n",
    "`class PatchedCar(Car)` does all `Car` does, but if we happen to be on the ramp, then our `self._target_lane` keeps changing (this is a hack / patch, not the proper way of handling this). In this way I have cars moving on a slanted lane.\n",
    "\n",
    "**Bo**: in this case, we don't need a subclass of `PatchedCar`. Just use `Car` but updating the `_targe_lane` property.\n",
    "**Alf**: this would break `v0`. `v0` can simulate any number of lanes, and all cars have the prescribed behaviour. `PatchedCar` knows there are only `7` lanes, and the `7`-th is the ramp.\n",
    "\n",
    "**Alf**: `v0` is generic. That was the initial environment. I believe the whole simulator should be rewritten, but for the purpose we need it (doing research), it is overkilling. We add and remove stuff daily... Subclassing the the less painfull approach.\n",
    "\n",
    "**Bo**: Let's keep those notes and don't worry about refactoring just for now. The naming part of the code base will need a clean up otherwise the engineering perspective might blow up sooner or later.\n",
    "\n",
    "**Alf**: our priority, for the moment, is to remove the most obvious collisions due to ground truth bugs, GTB, and to the poor kinematic modelling and noise in the measurements (unicycle model + Kalman).\n",
    "\n",
    "**Bo**: for the kinematic modelling. I am going to add an internal representation of the state vector (CTRV augmented state vector) for the `Car` class and add a function (we call it `update_state(self, action, observation)`) to update the state vector using an observation as input. We will need another getter function to access the state vector (we call it something like `get_state(self)` which returns the state vector).\n",
    "\n",
    " * in this `update_state()`, a UKF, a CTRV motion model and an observation model will handle the state estimate.\n",
    "\n",
    "**Bo**: what is the format of an observation? an observation basically means a sensor fetch: a gps location, an IMU reading (acceleration, heading) etc. \n",
    "\n",
    "**Alf**: so, there are two observations. A deprecated symbolic one [here](https://github.com/Atcold/pytorch-Traffic-Simulator/blob/master/traffic_gym.py#L138) and an image based [here](https://github.com/Atcold/pytorch-Traffic-Simulator/blob/master/traffic_gym.py#L407).\n",
    "\n",
    "**Bo**: can we extract the location of the car from an observation?\n",
    "\n",
    "**Alf**: sure, and observation now has position, velocity, and context image state (neighbouring occupancy grid).\n",
    "\n",
    "**Bo**: Good! we need position, speed, speed-direction for the CTRV model.\n",
    "\n",
    "**Alf**: All this stuff is already available in `Car`. If you check, you have:\n",
    "\n",
    "```python=\n",
    "self._length = round(4.8 * self.SCALE)\n",
    "self._width = round(1.8 * self.SCALE)\n",
    "self.id = car_id\n",
    "lane = random.choice(tuple(free_lanes))\n",
    "if lane == 6 and type(self).__name__ == 'PatchedCar':\n",
    "    self._position = np.array((0, lanes[-1]['max'] + 42), np.float)\n",
    "    self._direction = np.array((1, -0.035), np.float) / np.sqrt(1 + 0.035 ** 2)\n",
    "else:\n",
    "    self._position = np.array((\n",
    "        -self._length,\n",
    "        lanes[lane]['mid']\n",
    "    ), np.float)\n",
    "    self._direction = np.array((1, 0), np.float)\n",
    "self._target_speed = max(\n",
    "    0,\n",
    "    (MAX_SPEED - random.randrange(0, 15) - 10 * lane)\n",
    ") * 1000 / 3600 * self.SCALE  # m / s\n",
    "self._speed = self._target_speed\n",
    "self._dt = dt\n",
    "self._colour = colours['c']\n",
    "self._braked = False\n",
    "self._passing = False\n",
    "self._target_lane = self._position[1]\n",
    "self._noisy_target_lane = self._target_lane\n",
    "self.crashed = False\n",
    "self._error = 0\n",
    "self._states = list()\n",
    "self._states_image = list()\n",
    "self._actions = list()\n",
    "self._safe_factor = random.gauss(1.5, 0)  # 0.9 Germany, 2 safe\n",
    "self.pid_k1 = np.random.normal(1e-4, 1e-5)\n",
    "self.pid_k2 = np.random.normal(1e-3, 1e-4)\n",
    "self.look_ahead = look_ahead\n",
    "self.screen_w = screen_w\n",
    "self._text = self.get_text(self.id, font)\n",
    "self._policy_type = policy_type\n",
    "self.policy_network = policy_network\n",
    "self.is_controlled = False\n",
    "self.collisions_per_frame = 0\n",
    "```\n",
    "\n",
    "What we care, usually is `self._length`, `self._width`, `self.id`, `self._speed`, `self._direction`, `self._position`.\n",
    "\n",
    "**Bo**: this is good enough. Let me work on it a little bit then I will get back to pushing the code to git repo.\n",
    "\n",
    "What are our plans before next meeting? Fixing those fuckers then meet and discuss what? \n",
    "\n",
    "**Alf**: so, this week, on the engineering part, we need\n",
    "\n",
    " 1. no collisions\n",
    "     * ground truth bugs (Alf)\n",
    "     * wigglying (Bo)\n",
    "     * max delta-y limitation removal (Bo)\n",
    " 2. pixel based proximity cost (Alf)\n",
    "     * which will enable any map geometry to be used\n",
    "\n",
    "**Bo**: sure, clear enough! Let's get back to work.\n",
    "\n",
    "**Alf**: sweet! So, in short, it's just the unicycle kinematic model and the Kalman filter, right?\n",
    "\n",
    "**Bo**: yes, augmented unicycle model (unicycle w/o allowing spinning) and UKF.\n",
    "\n",
    "**Alf**: You should be able to use the debugging branch for playing with the kinematic model, and check that those wigglying busses and limited $\\partial y$ vehicles are now working fine.\n",
    "\n",
    "**Bo**: yes, I created a new branch based on the debugging branch just to keep the sanity.\n",
    "\n",
    "**Alf**: You can use that branch. I created it for you.\n",
    "\n",
    "**Bo**: OK! If you need to modify that branch, let me know.\n",
    "\n",
    "**Alf**: I won't. That was \"a branch for Bo, so that he can debug\".\n",
    "\n",
    "**Bo**: got it. That is it for today? \n",
    "\n",
    "**Alf**: So, that *is* a debugging branch. So, it won't be merged, ever. I have to point out that vehicles here are simply following the trajectories. In the real case we extract the action $a, b$ (acceleration, and tangetial deviation) by inverting the kinematic model, and then use these to run the vehicle, by applying them (again) to the kinematic model. Does it make any sense???\n",
    "\n",
    "**Bo**: Yes, so this is basically a tracking case (w/o actuation control)? \n",
    "\n",
    "**Alf**: debugging == tracking. We need actions in order to train the predictive model. So we **do** need to invert the kinematic model in order to extract $a, b$.\n",
    " \n",
    "**Bo**: OK, it is easy to do. Action can be expressed directly by $a, b$.\n",
    "Basically we use $a, b$ directly in the state transition matrix. $a, b$ are computed from data.\n",
    "\n",
    "**Alf**: ah, that I don't know. I'm not super familiar. Are they? That would be great. So, let me put here a few locations in the code you need to pay attention to.\n",
    "\n",
    " * [Collision branch](https://github.com/Atcold/pytorch-Traffic-Simulator/tree/collisions)\n",
    " * [step v1](https://github.com/Atcold/pytorch-Traffic-Simulator/blob/collisions/traffic_gym_v1.py#L80-L87) is usually commented, and [step v0](https://github.com/Atcold/pytorch-Traffic-Simulator/blob/collisions/traffic_gym.py#L244-L263) is used instead\n",
    " * Therefore, [step v0](https://github.com/Atcold/pytorch-Traffic-Simulator/blob/collisions/traffic_gym.py#L244-L263) will require the modified unicycle kinematic model\n",
    " * [filtering and gradient clipping](https://github.com/Atcold/pytorch-Traffic-Simulator/blob/collisions/traffic_gym_v1.py#L33-L39) should be unnecessary when proper kinematic model is used instead\n",
    "    * probably yes, it depends on the noise of data. The data could be far off, in this case we might need clipping. However, if the covariance matrix is estimated well enough by the KF library, clipping is not needed; the update step should ignore \"noise spikes\" according to Kalman gain.\n",
    " * [`_get()`](https://github.com/Atcold/pytorch-Traffic-Simulator/blob/collisions/traffic_gym_v1.py#L70-L77) should get the right stuff, especially with respect to the current position, and not just trajectory relative information\n",
    " * [v1 policy()](https://github.com/Atcold/pytorch-Traffic-Simulator/blob/collisions/traffic_gym_v1.py#L89-L102) returns $a, b$ from the data\n",
    " * [v0 step()](https://github.com/Atcold/pytorch-Traffic-Simulator/blob/collisions/traffic_gym.py#L244-L263) should step according `v1 policy()`'s $a, b$.\n",
    "\n",
    "**Alf**: and this should be all. If you have any question, please, feel free to bug me. Also, you won't be able to merge the `collisions` branch. We'll have to cherry-pick your commit onto `master`.\n",
    "\n",
    "**Bo**: Sure! "
   ]
  },
  {
   "cell_type": "code",
   "execution_count": null,
   "metadata": {},
   "outputs": [],
   "source": []
  }
 ],
 "metadata": {
  "kernelspec": {
   "display_name": "Python [conda env:TrafficSim]",
   "language": "python",
   "name": "conda-env-TrafficSim-py"
  },
  "language_info": {
   "codemirror_mode": {
    "name": "ipython",
    "version": 3
   },
   "file_extension": ".py",
   "mimetype": "text/x-python",
   "name": "python",
   "nbconvert_exporter": "python",
   "pygments_lexer": "ipython3",
   "version": "3.6.5"
  }
 },
 "nbformat": 4,
 "nbformat_minor": 2
}
