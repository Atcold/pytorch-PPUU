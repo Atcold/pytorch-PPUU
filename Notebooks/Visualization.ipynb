{
 "cells": [
  {
   "cell_type": "markdown",
   "metadata": {},
   "source": [
    "### The full visualization is only supported for the following model\n",
    "```MPUR-policy-deterministic-model=vae-zdropout=0.5-nfeature=256-bsize=6-npred=30-ureg=0.05-lambdal=0.2-lambdaa=0.0-gamma=0.99-lrtz=0.0-updatez=0-inferz=0-learnedcost=1-seed=3-novaluestep25000.model```\n",
    "\n",
    "* Experiment Determenistic\n",
    "* Seed 3\n",
    "* Checkpoint 25000\n"
   ]
  },
  {
   "cell_type": "code",
   "execution_count": 1,
   "metadata": {
    "scrolled": true
   },
   "outputs": [],
   "source": [
    "# %matplotlib notebook"
   ]
  },
  {
   "cell_type": "code",
   "execution_count": 20,
   "metadata": {
    "scrolled": false
   },
   "outputs": [
    {
     "name": "stdout",
     "output_type": "stream",
     "text": [
      "3\n",
      "6\n",
      "20\n",
      "22\n",
      "(4, 40)\n",
      "(3, 2)\n"
     ]
    },
    {
     "data": {
      "application/vnd.jupyter.widget-view+json": {
       "model_id": "75efcdd9c14d4a02a7880fc62908d64a",
       "version_major": 2,
       "version_minor": 0
      },
      "text/plain": [
       "Select(description='Experiments', layout=Layout(border='solid', width='500px'), options=('Stochastic', 'Determ…"
      ]
     },
     "metadata": {},
     "output_type": "display_data"
    },
    {
     "data": {
      "application/vnd.jupyter.widget-view+json": {
       "model_id": "723842c1880842ce83284bbe2d0d4dea",
       "version_major": 2,
       "version_minor": 0
      },
      "text/plain": [
       "Dropdown(description='Seed:', options=(), value=None)"
      ]
     },
     "metadata": {},
     "output_type": "display_data"
    },
    {
     "data": {
      "application/vnd.jupyter.widget-view+json": {
       "model_id": "8a2a2b85b9e6475a9b71ed034cdd14a1",
       "version_major": 2,
       "version_minor": 0
      },
      "text/plain": [
       "Dropdown(description='Checkpoint:', options=(), value=None)"
      ]
     },
     "metadata": {},
     "output_type": "display_data"
    },
    {
     "data": {
      "application/vnd.jupyter.widget-view+json": {
       "model_id": "d5d4b0dd42244853afdc18dea3ce6436",
       "version_major": 2,
       "version_minor": 0
      },
      "text/plain": [
       "Dropdown(description='Successful Episode:', options=(), value=None)"
      ]
     },
     "metadata": {},
     "output_type": "display_data"
    },
    {
     "data": {
      "application/vnd.jupyter.widget-view+json": {
       "model_id": "06fee8e2e14148db9576c6a7e0acb46c",
       "version_major": 2,
       "version_minor": 0
      },
      "text/plain": [
       "Tab(children=(PCAPlot(children=(ModelPicker(children=(Dropdown(description='Experiment:', options=('Stochastic…"
      ]
     },
     "metadata": {},
     "output_type": "display_data"
    }
   ],
   "source": [
    "import PCA\n",
    "import Widgets\n",
    "import DataReader\n",
    "import VisualizationLibrary\n",
    "import importlib\n",
    "from types import ModuleType\n",
    "\n",
    "importlib.reload(PCA)\n",
    "importlib.reload(DataReader)\n",
    "importlib.reload(Widgets)\n",
    "importlib.reload(VisualizationLibrary)\n",
    "\n",
    "v = VisualizationLibrary.Visualization()\n",
    "v.display()"
   ]
  },
  {
   "cell_type": "code",
   "execution_count": null,
   "metadata": {},
   "outputs": [],
   "source": []
  },
  {
   "cell_type": "code",
   "execution_count": null,
   "metadata": {},
   "outputs": [],
   "source": []
  }
 ],
 "metadata": {
  "jupytext": {
   "formats": "ipynb,py:percent"
  },
  "kernelspec": {
   "display_name": "Python 3",
   "language": "python",
   "name": "python3"
  },
  "language_info": {
   "codemirror_mode": {
    "name": "ipython",
    "version": 3
   },
   "file_extension": ".py",
   "mimetype": "text/x-python",
   "name": "python",
   "nbconvert_exporter": "python",
   "pygments_lexer": "ipython3",
   "version": "3.7.4"
  }
 },
 "nbformat": 4,
 "nbformat_minor": 2
}
