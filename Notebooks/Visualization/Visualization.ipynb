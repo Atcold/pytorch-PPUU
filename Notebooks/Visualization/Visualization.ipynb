{
 "cells": [
  {
   "cell_type": "code",
   "execution_count": null,
   "metadata": {
    "scrolled": false
   },
   "outputs": [],
   "source": [
    "import DimensionalityReduction\n",
    "import Widgets\n",
    "import DataReader\n",
    "import VisualizationLibrary\n",
    "import importlib\n",
    "import Tabs\n",
    "from types import ModuleType\n",
    "\n",
    "importlib.reload(DataReader)\n",
    "importlib.reload(DimensionalityReduction)\n",
    "importlib.reload(Widgets)\n",
    "importlib.reload(Tabs)\n",
    "importlib.reload(VisualizationLibrary)\n",
    "\n",
    "v = VisualizationLibrary.Visualization()\n",
    "v.display()"
   ]
  },
  {
   "cell_type": "code",
   "execution_count": null,
   "metadata": {},
   "outputs": [],
   "source": [
    "import sklearn\n",
    "import sklearn.cluster\n",
    "from matplotlib import pyplot as plt\n",
    "\n",
    "features = PCA.PCA.get_pca_data()\n",
    "scores = []\n",
    "\n",
    "for c in range(2, 15):\n",
    "    score = sklearn.cluster.KMeans(n_clusters=c).fit(features).score(features)\n",
    "    scores.append(-score)\n",
    "\n",
    "plt.plot(scores, 'o-')\n",
    "\n",
    "\n"
   ]
  },
  {
   "cell_type": "code",
   "execution_count": null,
   "metadata": {},
   "outputs": [],
   "source": []
  }
 ],
 "metadata": {
  "jupytext": {
   "formats": "ipynb,py:percent"
  },
  "kernelspec": {
   "display_name": "Python 3",
   "language": "python",
   "name": "python3"
  },
  "language_info": {
   "codemirror_mode": {
    "name": "ipython",
    "version": 3
   },
   "file_extension": ".py",
   "mimetype": "text/x-python",
   "name": "python",
   "nbconvert_exporter": "python",
   "pygments_lexer": "ipython3",
   "version": "3.7.4"
  }
 },
 "nbformat": 4,
 "nbformat_minor": 2
}
