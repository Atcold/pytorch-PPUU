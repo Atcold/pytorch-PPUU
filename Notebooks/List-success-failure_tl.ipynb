{
 "cells": [
  {
   "cell_type": "code",
   "execution_count": 1,
   "metadata": {},
   "outputs": [],
   "source": [
    "import os\n",
    "from os import path\n",
    "import pandas as pd"
   ]
  },
  {
   "cell_type": "markdown",
   "metadata": {},
   "source": [
    "### Build results dataframe"
   ]
  },
  {
   "cell_type": "code",
   "execution_count": 2,
   "metadata": {},
   "outputs": [],
   "source": [
    "N = 24\n",
    "tls = [0.5, 0.6, 0.7]\n",
    "seeds = [i for i in range(1, 4)]\n",
    "steps = [(i + 1) * 5000 for i in range(N)]"
   ]
  },
  {
   "cell_type": "code",
   "execution_count": 3,
   "metadata": {},
   "outputs": [],
   "source": [
    "results_list_tl = []\n",
    "performance_path_tl = '/misc/vlgscratch4/LecunGroup/nvidia-collab/yairschiff/pytorch-PPUU/models/planning_results'\n",
    "name_tl = 'MPUR-policy-deterministic-model=vae-zdropout=0.5-nfeature=256-bsize=6-npred=30-ureg=0.05-lambdal=0.2' + \\\n",
    "       '-lambdaa=0.0-gamma=0.99-lrtz=0.0-updatez=0-inferz=False-learnedcost=False-lambdatl={tl}' + \\\n",
    "       '-seed={seed}-novaluestep{step}.model.log'\n",
    "\n",
    "for tl in tls:\n",
    "    for seed in seeds:\n",
    "        for step in steps:\n",
    "            file_name = path.join(performance_path_tl, name_tl.format(tl=tl, seed=seed, step=step))\n",
    "            if os.path.isfile(file_name):\n",
    "                with open(file_name) as f:\n",
    "                    lines = f.readlines()\n",
    "                    for line in lines:\n",
    "                        splits = line.split(\"|\")\n",
    "                        ep = int(splits[0].split(\":\")[-1].split(\"/\")[0].strip())\n",
    "                        time = int(splits[1].split(\":\")[1].strip())\n",
    "                        distance = int(splits[2].split(\":\")[1].strip())\n",
    "                        success_or_failure = int(splits[3].split(\":\")[1].strip())\n",
    "                        df_line = {\n",
    "                            'lambda_tl': tl,\n",
    "                            'seed': seed,\n",
    "                            'step': step,\n",
    "                            'ep': ep,\n",
    "                            'time': time,\n",
    "                            'distance': distance,\n",
    "                            'result': success_or_failure\n",
    "                        }\n",
    "                        results_list_tl.append(df_line)"
   ]
  },
  {
   "cell_type": "code",
   "execution_count": 13,
   "metadata": {},
   "outputs": [],
   "source": [
    "results_df_tl = pd.DataFrame(results_list_tl)\n",
    "cols_tl = ['lambda_tl', 'seed', 'step', 'ep', 'time', 'distance', 'result']\n",
    "results_df_tl = results_df_tl[cols_tl]"
   ]
  },
  {
   "cell_type": "code",
   "execution_count": 32,
   "metadata": {},
   "outputs": [],
   "source": [
    "results_list_bl = []\n",
    "performance_path_bl = '{/misc/vlgscratch4/LecunGroup/}nvidia-collab/yairschiff/pytorch-PPUU/' + \\\n",
    "                      'models_baseline/planning_results'\n",
    "name_bl = 'MPUR-policy-deterministic-model=vae-zdropout=0.5-nfeature=256-bsize=6-npred=30-ureg=0.05-lambdal=0.2' + \\\n",
    "       '-lambdaa=0.0-gamma=0.99-lrtz=0.0-updatez=0-inferz=0-learnedcost=False' + \\\n",
    "       '-seed={seed}-novaluestep{step}.model.log'\n",
    "for seed in seeds:\n",
    "    for step in steps:\n",
    "        file_name = path.join(performance_path_bl, name_bl.format(seed=seed, step=step))\n",
    "        if os.path.isfile(file_name):\n",
    "            with open(file_name) as f:\n",
    "                lines = f.readlines()\n",
    "                for line in lines:\n",
    "                    splits = line.split(\"|\")\n",
    "                    ep = int(splits[0].split(\":\")[-1].split(\"/\")[0].strip())\n",
    "                    time = int(splits[1].split(\":\")[1].strip())\n",
    "                    distance = int(splits[2].split(\":\")[1].strip())\n",
    "                    success_or_failure = int(splits[3].split(\":\")[1].strip())\n",
    "                    df_line = {\n",
    "                        'seed': seed,\n",
    "                        'step': step,\n",
    "                        'ep': ep,\n",
    "                        'time': time,\n",
    "                        'distance': distance,\n",
    "                        'result': success_or_failure\n",
    "                    }\n",
    "                    results_list_bl.append(df_line)"
   ]
  },
  {
   "cell_type": "code",
   "execution_count": 33,
   "metadata": {},
   "outputs": [],
   "source": [
    "results_df_bl = pd.DataFrame(results_list_bl)\n",
    "cols_bl = ['seed', 'step', 'ep', 'time', 'distance', 'result']\n",
    "results_df_bl = results_df_bl[cols_bl]"
   ]
  },
  {
   "cell_type": "markdown",
   "metadata": {},
   "source": [
    "### Filter dataframe"
   ]
  },
  {
   "cell_type": "code",
   "execution_count": 50,
   "metadata": {},
   "outputs": [],
   "source": [
    "# Set filter variables for target_lane results\n",
    "tl = 0.6\n",
    "seed = 2\n",
    "step = 80000\n",
    "result = 1  # 1 for successes, 0 for failures"
   ]
  },
  {
   "cell_type": "code",
   "execution_count": 51,
   "metadata": {},
   "outputs": [
    {
     "name": "stdout",
     "output_type": "stream",
     "text": [
      "List of success episodes for lambda_tl: 0.6, seed: 2, step: 80000:\n",
      "442\n",
      "[  1   3   4   5   6   7   8   9  10  11  12  13  16  17  18  19  20  21\n",
      "  22  23  24  26  27  28  30  32  34  35  36  37  38  40  42  43  45  47\n",
      "  48  49  51  52  53  54  55  56  57  58  59  61  62  63  64  65  66  67\n",
      "  68  69  70  71  72  74  75  76  78  79  80  81  82  83  85  86  87  88\n",
      "  89  90  91  92  94  96  97  98 100 101 102 103 104 105 106 107 108 109\n",
      " 110 111 112 113 114 115 117 120 121 123 124 126 127 128 129 130 133 134\n",
      " 138 139 140 141 142 144 145 146 147 148 149 150 153 154 155 156 157 158\n",
      " 159 160 161 162 163 165 166 168 169 173 174 175 176 177 178 180 182 183\n",
      " 184 185 186 187 188 189 190 191 193 194 195 196 197 198 199 200 201 202\n",
      " 204 205 206 207 209 210 211 212 213 215 216 218 219 220 221 222 223 224\n",
      " 228 230 231 232 235 236 237 238 240 241 242 243 244 245 246 247 248 249\n",
      " 250 251 252 253 254 256 257 258 259 260 261 263 264 265 266 267 268 269\n",
      " 270 271 273 274 275 277 279 282 283 284 285 286 287 288 290 291 292 293\n",
      " 294 295 297 299 300 301 302 303 304 305 306 309 310 311 312 316 317 318\n",
      " 319 321 322 325 326 327 328 329 330 331 334 335 337 338 339 340 341 343\n",
      " 344 346 347 348 349 350 351 352 355 357 358 359 360 361 362 363 364 365\n",
      " 367 368 370 371 372 374 375 376 377 378 379 380 381 382 383 384 385 387\n",
      " 388 391 392 393 394 395 396 397 398 399 401 402 403 405 406 407 408 410\n",
      " 411 412 413 414 415 418 419 420 421 422 425 426 427 428 429 430 431 432\n",
      " 434 435 436 440 441 442 443 444 445 446 447 448 449 450 451 452 453 454\n",
      " 455 457 458 460 463 466 467 468 469 470 474 475 477 478 479 480 481 483\n",
      " 484 485 486 487 489 490 491 492 493 494 495 496 497 498 499 500 502 503\n",
      " 504 505 506 507 508 510 511 512 514 515 516 518 520 522 523 526 527 529\n",
      " 530 531 533 534 535 536 537 538 539 540 541 542 543 544 545 546 548 549\n",
      " 551 552 553 554 555 556 557 558 559 560]\n"
     ]
    }
   ],
   "source": [
    "# Perform filter on target_lane results\n",
    "print(f'List of {\"success\" if result else \"failure\"} episodes for lambda_tl: {tl}, seed: {seed}, step: {step}:')\n",
    "filtered_list_tl = results_df_tl[(results_df_tl.lambda_tl == tl) &\n",
    "                                 (results_df_tl.seed == seed) &\n",
    "                                 (results_df_tl.step == step) &\n",
    "                                 (results_df_tl.result == result)]['ep'].values\n",
    "print(len(filtered_list_tl))\n",
    "print(filtered_list_tl)"
   ]
  },
  {
   "cell_type": "code",
   "execution_count": 43,
   "metadata": {},
   "outputs": [],
   "source": [
    "# Set filter variables for baseline results\n",
    "seed = 1\n",
    "step = 115000\n",
    "result = 0  # 1 for successes, 0 for failures"
   ]
  },
  {
   "cell_type": "code",
   "execution_count": 45,
   "metadata": {},
   "outputs": [
    {
     "name": "stdout",
     "output_type": "stream",
     "text": [
      "List of failure episodes for baseline - seed: 1, step: 115000:\n",
      "138\n",
      "[  2   5  14  15  19  25  31  33  38  39  43  46  51  55  60  71  73  77\n",
      "  81  83  85  95  99 100 111 116 118 122 124 125 131 136 152 164 170 171\n",
      " 172 179 181 192 197 203 208 214 215 217 222 225 229 233 234 236 239 246\n",
      " 248 250 255 262 264 272 276 278 280 281 283 289 298 300 305 306 307 315\n",
      " 317 323 324 332 333 335 336 342 345 354 356 366 367 374 384 385 388 389\n",
      " 390 391 400 404 408 409 410 412 416 417 418 423 424 433 437 439 440 441\n",
      " 448 449 451 456 459 462 464 465 471 472 473 476 479 482 488 498 509 517\n",
      " 519 521 524 525 526 528 532 534 536 544 550 561]\n"
     ]
    }
   ],
   "source": [
    "# Perform filter on baseline results\n",
    "print(f'List of {\"success\" if result else \"failure\"} episodes for baseline - seed: {seed}, step: {step}:')\n",
    "filtered_list_bl = results_df_bl[(results_df_bl.seed == seed) &\n",
    "                                 (results_df_bl.step == step) &\n",
    "                                 (results_df_bl.result == result)]['ep'].values\n",
    "print(len(filtered_list_bl))\n",
    "print(filtered_list_bl)"
   ]
  },
  {
   "cell_type": "code",
   "execution_count": null,
   "metadata": {},
   "outputs": [],
   "source": []
  }
 ],
 "metadata": {
  "kernelspec": {
   "display_name": "Python 3",
   "language": "python",
   "name": "python3"
  },
  "language_info": {
   "codemirror_mode": {
    "name": "ipython",
    "version": 3
   },
   "file_extension": ".py",
   "mimetype": "text/x-python",
   "name": "python",
   "nbconvert_exporter": "python",
   "pygments_lexer": "ipython3",
   "version": "3.7.3"
  }
 },
 "nbformat": 4,
 "nbformat_minor": 2
}
