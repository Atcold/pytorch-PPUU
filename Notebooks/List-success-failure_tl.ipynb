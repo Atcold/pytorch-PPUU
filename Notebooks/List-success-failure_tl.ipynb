{
 "cells": [
  {
   "cell_type": "code",
   "execution_count": 1,
   "metadata": {},
   "outputs": [],
   "source": [
    "import os\n",
    "from os import path\n",
    "import pandas as pd"
   ]
  },
  {
   "cell_type": "markdown",
   "metadata": {},
   "source": [
    "### Build results dataframe"
   ]
  },
  {
   "cell_type": "code",
   "execution_count": 23,
   "metadata": {},
   "outputs": [],
   "source": [
    "N = 24\n",
    "tls = [0.5, 0.6, 0.7]\n",
    "seeds = [i for i in range(1, 4)]\n",
    "steps = [(i + 1) * 5000 for i in range(N)]"
   ]
  },
  {
   "cell_type": "code",
   "execution_count": 24,
   "metadata": {},
   "outputs": [],
   "source": [
    "results_list = []\n",
    "performance_path_tl = '/misc/vlgscratch4/LecunGroup/nvidia-collab/yairschiff/pytorch-PPUU/models/planning_results'\n",
    "name_tl = 'MPUR-policy-deterministic-model=vae-zdropout=0.5-nfeature=256-bsize=6-npred=30-ureg=0.05-lambdal=0.2' + \\\n",
    "       '-lambdaa=0.0-gamma=0.99-lrtz=0.0-updatez=0-inferz=False-learnedcost=False-lambdatl={tl}' + \\\n",
    "       '-seed={seed}-novaluestep{step}.model.log'\n",
    "\n",
    "for tl in tls:\n",
    "    for seed in seeds:\n",
    "        for step in steps:\n",
    "            file_name = path.join(performance_path_tl, name_tl.format(tl=tl, seed=seed, step=step))\n",
    "            if os.path.isfile(file_name):\n",
    "                with open(file_name) as f:\n",
    "                    lines = f.readlines()\n",
    "                    for line in lines:\n",
    "                        splits = line.split(\"|\")\n",
    "                        ep = int(splits[0].split(\":\")[-1].split(\"/\")[0].strip())\n",
    "                        time = int(splits[1].split(\":\")[1].strip())\n",
    "                        distance = int(splits[2].split(\":\")[1].strip())\n",
    "                        success_or_failure = int(splits[3].split(\":\")[1].strip())\n",
    "                        df_line = {\n",
    "                            'lambda_tl': tl,\n",
    "                            'seed': seed,\n",
    "                            'step': step,\n",
    "                            'ep': ep,\n",
    "                            'time': time,\n",
    "                            'distance': distance,\n",
    "                            'result': success_or_failure\n",
    "                        }\n",
    "                        results_list.append(df_line)"
   ]
  },
  {
   "cell_type": "code",
   "execution_count": 25,
   "metadata": {},
   "outputs": [],
   "source": [
    "results_df = pd.DataFrame(results_list)\n",
    "cols = ['lambda_tl', 'seed', 'step', 'ep', 'time', 'distance', 'result']\n",
    "results_df = results_df[cols]"
   ]
  },
  {
   "cell_type": "markdown",
   "metadata": {},
   "source": [
    "### Filter dataframe"
   ]
  },
  {
   "cell_type": "code",
   "execution_count": 29,
   "metadata": {},
   "outputs": [],
   "source": [
    "# Set filter variables\n",
    "tl = 0.6\n",
    "seed = 2\n",
    "step = 80000\n",
    "result = 0  # 1 for successes, 0 for failures"
   ]
  },
  {
   "cell_type": "code",
   "execution_count": 30,
   "metadata": {},
   "outputs": [
    {
     "name": "stdout",
     "output_type": "stream",
     "text": [
      "List of failed episodes for lambda_tl: 0.6, seed: 2, step: 80000:\n",
      "[  2  14  15  25  29  31  33  39  41  44  46  50  60  73  77  84  93  95\n",
      "  99 116 118 119 122 125 131 132 135 136 137 143 151 152 164 167 170 171\n",
      " 172 179 181 192 203 208 214 217 225 226 227 229 233 234 239 255 262 272\n",
      " 276 278 280 281 289 296 298 307 308 313 314 315 320 323 324 332 333 336\n",
      " 342 345 353 354 356 366 369 373 386 389 390 400 404 409 416 417 423 424\n",
      " 433 437 438 439 456 459 461 462 464 465 471 472 473 476 482 488 501 509\n",
      " 513 517 519 521 524 525 528 532 547 550 561]\n"
     ]
    }
   ],
   "source": [
    "# Perform filter\n",
    "print(f'List of failed episodes for lambda_tl: {tl}, seed: {seed}, step: {step}:')\n",
    "print(results_df[(results_df.lambda_tl == tl) &\n",
    "            (results_df.seed == seed) &\n",
    "            (results_df.step == step) &\n",
    "            (results_df.result == result)]['ep'].values)"
   ]
  },
  {
   "cell_type": "code",
   "execution_count": null,
   "metadata": {},
   "outputs": [],
   "source": []
  }
 ],
 "metadata": {
  "kernelspec": {
   "display_name": "Python 3",
   "language": "python",
   "name": "python3"
  },
  "language_info": {
   "codemirror_mode": {
    "name": "ipython",
    "version": 3
   },
   "file_extension": ".py",
   "mimetype": "text/x-python",
   "name": "python",
   "nbconvert_exporter": "python",
   "pygments_lexer": "ipython3",
   "version": "3.7.3"
  }
 },
 "nbformat": 4,
 "nbformat_minor": 2
}
