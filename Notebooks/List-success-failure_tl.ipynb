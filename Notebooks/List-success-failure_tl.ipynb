{
 "cells": [
  {
   "cell_type": "code",
   "execution_count": 1,
   "metadata": {},
   "outputs": [],
   "source": [
    "import os\n",
    "from os import path\n",
    "import pandas as pd"
   ]
  },
  {
   "cell_type": "markdown",
   "metadata": {},
   "source": [
    "### Build results dataframe"
   ]
  },
  {
   "cell_type": "code",
   "execution_count": 4,
   "metadata": {},
   "outputs": [],
   "source": [
    "N = 24\n",
    "# tls = [0.5, 0.6, 0.7]\n",
    "lls = [0.0, 0.1, 0.2]\n",
    "tls = [1.0]\n",
    "seeds = [i for i in range(1, 4)]\n",
    "steps = [(i + 1) * 5000 for i in range(N)]"
   ]
  },
  {
   "cell_type": "code",
   "execution_count": 7,
   "metadata": {},
   "outputs": [],
   "source": [
    "results_list_tl = []\n",
    "performance_path_tl = '/misc/vlgscratch4/LecunGroup/nvidia-collab/yairschiff/pytorch-PPUU/models_learned_cost/planning_results'\n",
    "name_tl = 'MPUR-policy-deterministic-model=vae-zdropout=0.5-nfeature=256-bsize=6-npred=30-ureg=0.05-lambdal={ll}' + \\\n",
    "       '-lambdaa=0.0-gamma=0.99-lrtz=0.0-updatez=0-inferz=False-learnedcost=True-lambdatl={tl}' + \\\n",
    "       '-seed={seed}-novaluestep{step}.model.log'\n",
    "for ll in lls:\n",
    "    for tl in tls:\n",
    "        for seed in seeds:\n",
    "            for step in steps:\n",
    "                file_name = path.join(performance_path_tl, name_tl.format(ll=ll, tl=tl, seed=seed, step=step))\n",
    "                if os.path.isfile(file_name):\n",
    "                    with open(file_name) as f:\n",
    "                        lines = f.readlines()\n",
    "                        for line in lines:\n",
    "                            splits = line.split(\"|\")\n",
    "                            ep = int(splits[0].split(\":\")[-1].split(\"/\")[0].strip())\n",
    "                            time = int(splits[1].split(\":\")[1].strip())\n",
    "                            distance = int(splits[2].split(\":\")[1].strip())\n",
    "                            success_or_failure = int(splits[3].split(\":\")[1].strip())\n",
    "                            df_line = {\n",
    "                                'lambda_l': ll,\n",
    "                                'lambda_tl': tl,\n",
    "                                'seed': seed,\n",
    "                                'step': step,\n",
    "                                'ep': ep,\n",
    "                                'time': time,\n",
    "                                'distance': distance,\n",
    "                                'result': success_or_failure\n",
    "                            }\n",
    "                            results_list_tl.append(df_line)"
   ]
  },
  {
   "cell_type": "code",
   "execution_count": 8,
   "metadata": {},
   "outputs": [],
   "source": [
    "results_df_tl = pd.DataFrame(results_list_tl)\n",
    "cols_tl = ['lambda_l', 'lambda_tl', 'seed', 'step', 'ep', 'time', 'distance', 'result']\n",
    "results_df_tl = results_df_tl[cols_tl]"
   ]
  },
  {
   "cell_type": "code",
   "execution_count": 9,
   "metadata": {},
   "outputs": [],
   "source": [
    "results_list_bl = []\n",
    "performance_path_bl = '{/misc/vlgscratch4/LecunGroup/}nvidia-collab/yairschiff/pytorch-PPUU/' + \\\n",
    "                      'models_baseline/planning_results'\n",
    "name_bl = 'MPUR-policy-deterministic-model=vae-zdropout=0.5-nfeature=256-bsize=6-npred=30-ureg=0.05-lambdal=0.2' + \\\n",
    "       '-lambdaa=0.0-gamma=0.99-lrtz=0.0-updatez=0-inferz=0-learnedcost=False' + \\\n",
    "       '-seed={seed}-novaluestep{step}.model.log'\n",
    "for seed in seeds:\n",
    "    for step in steps:\n",
    "        file_name = path.join(performance_path_bl, name_bl.format(seed=seed, step=step))\n",
    "        if os.path.isfile(file_name):\n",
    "            with open(file_name) as f:\n",
    "                lines = f.readlines()\n",
    "                for line in lines:\n",
    "                    splits = line.split(\"|\")\n",
    "                    ep = int(splits[0].split(\":\")[-1].split(\"/\")[0].strip())\n",
    "                    time = int(splits[1].split(\":\")[1].strip())\n",
    "                    distance = int(splits[2].split(\":\")[1].strip())\n",
    "                    success_or_failure = int(splits[3].split(\":\")[1].strip())\n",
    "                    df_line = {\n",
    "                        'seed': seed,\n",
    "                        'step': step,\n",
    "                        'ep': ep,\n",
    "                        'time': time,\n",
    "                        'distance': distance,\n",
    "                        'result': success_or_failure\n",
    "                    }\n",
    "                    results_list_bl.append(df_line)"
   ]
  },
  {
   "cell_type": "code",
   "execution_count": 10,
   "metadata": {},
   "outputs": [
    {
     "ename": "KeyError",
     "evalue": "\"None of [Index(['seed', 'step', 'ep', 'time', 'distance', 'result'], dtype='object')] are in the [columns]\"",
     "output_type": "error",
     "traceback": [
      "\u001b[0;31m---------------------------------------------------------------------------\u001b[0m",
      "\u001b[0;31mKeyError\u001b[0m                                  Traceback (most recent call last)",
      "\u001b[0;32m<ipython-input-10-a7f32ccca0c1>\u001b[0m in \u001b[0;36m<module>\u001b[0;34m\u001b[0m\n\u001b[1;32m      1\u001b[0m \u001b[0mresults_df_bl\u001b[0m \u001b[0;34m=\u001b[0m \u001b[0mpd\u001b[0m\u001b[0;34m.\u001b[0m\u001b[0mDataFrame\u001b[0m\u001b[0;34m(\u001b[0m\u001b[0mresults_list_bl\u001b[0m\u001b[0;34m)\u001b[0m\u001b[0;34m\u001b[0m\u001b[0;34m\u001b[0m\u001b[0m\n\u001b[1;32m      2\u001b[0m \u001b[0mcols_bl\u001b[0m \u001b[0;34m=\u001b[0m \u001b[0;34m[\u001b[0m\u001b[0;34m'seed'\u001b[0m\u001b[0;34m,\u001b[0m \u001b[0;34m'step'\u001b[0m\u001b[0;34m,\u001b[0m \u001b[0;34m'ep'\u001b[0m\u001b[0;34m,\u001b[0m \u001b[0;34m'time'\u001b[0m\u001b[0;34m,\u001b[0m \u001b[0;34m'distance'\u001b[0m\u001b[0;34m,\u001b[0m \u001b[0;34m'result'\u001b[0m\u001b[0;34m]\u001b[0m\u001b[0;34m\u001b[0m\u001b[0;34m\u001b[0m\u001b[0m\n\u001b[0;32m----> 3\u001b[0;31m \u001b[0mresults_df_bl\u001b[0m \u001b[0;34m=\u001b[0m \u001b[0mresults_df_bl\u001b[0m\u001b[0;34m[\u001b[0m\u001b[0mcols_bl\u001b[0m\u001b[0;34m]\u001b[0m\u001b[0;34m\u001b[0m\u001b[0;34m\u001b[0m\u001b[0m\n\u001b[0m",
      "\u001b[0;32m~/nvidia-collab/yairschiff/anaconda3/lib/python3.7/site-packages/pandas/core/frame.py\u001b[0m in \u001b[0;36m__getitem__\u001b[0;34m(self, key)\u001b[0m\n\u001b[1;32m   2932\u001b[0m                 \u001b[0mkey\u001b[0m \u001b[0;34m=\u001b[0m \u001b[0mlist\u001b[0m\u001b[0;34m(\u001b[0m\u001b[0mkey\u001b[0m\u001b[0;34m)\u001b[0m\u001b[0;34m\u001b[0m\u001b[0;34m\u001b[0m\u001b[0m\n\u001b[1;32m   2933\u001b[0m             indexer = self.loc._convert_to_indexer(key, axis=1,\n\u001b[0;32m-> 2934\u001b[0;31m                                                    raise_missing=True)\n\u001b[0m\u001b[1;32m   2935\u001b[0m \u001b[0;34m\u001b[0m\u001b[0m\n\u001b[1;32m   2936\u001b[0m         \u001b[0;31m# take() does not accept boolean indexers\u001b[0m\u001b[0;34m\u001b[0m\u001b[0;34m\u001b[0m\u001b[0;34m\u001b[0m\u001b[0m\n",
      "\u001b[0;32m~/nvidia-collab/yairschiff/anaconda3/lib/python3.7/site-packages/pandas/core/indexing.py\u001b[0m in \u001b[0;36m_convert_to_indexer\u001b[0;34m(self, obj, axis, is_setter, raise_missing)\u001b[0m\n\u001b[1;32m   1352\u001b[0m                 kwargs = {'raise_missing': True if is_setter else\n\u001b[1;32m   1353\u001b[0m                           raise_missing}\n\u001b[0;32m-> 1354\u001b[0;31m                 \u001b[0;32mreturn\u001b[0m \u001b[0mself\u001b[0m\u001b[0;34m.\u001b[0m\u001b[0m_get_listlike_indexer\u001b[0m\u001b[0;34m(\u001b[0m\u001b[0mobj\u001b[0m\u001b[0;34m,\u001b[0m \u001b[0maxis\u001b[0m\u001b[0;34m,\u001b[0m \u001b[0;34m**\u001b[0m\u001b[0mkwargs\u001b[0m\u001b[0;34m)\u001b[0m\u001b[0;34m[\u001b[0m\u001b[0;36m1\u001b[0m\u001b[0;34m]\u001b[0m\u001b[0;34m\u001b[0m\u001b[0;34m\u001b[0m\u001b[0m\n\u001b[0m\u001b[1;32m   1355\u001b[0m         \u001b[0;32melse\u001b[0m\u001b[0;34m:\u001b[0m\u001b[0;34m\u001b[0m\u001b[0;34m\u001b[0m\u001b[0m\n\u001b[1;32m   1356\u001b[0m             \u001b[0;32mtry\u001b[0m\u001b[0;34m:\u001b[0m\u001b[0;34m\u001b[0m\u001b[0;34m\u001b[0m\u001b[0m\n",
      "\u001b[0;32m~/nvidia-collab/yairschiff/anaconda3/lib/python3.7/site-packages/pandas/core/indexing.py\u001b[0m in \u001b[0;36m_get_listlike_indexer\u001b[0;34m(self, key, axis, raise_missing)\u001b[0m\n\u001b[1;32m   1159\u001b[0m         self._validate_read_indexer(keyarr, indexer,\n\u001b[1;32m   1160\u001b[0m                                     \u001b[0mo\u001b[0m\u001b[0;34m.\u001b[0m\u001b[0m_get_axis_number\u001b[0m\u001b[0;34m(\u001b[0m\u001b[0maxis\u001b[0m\u001b[0;34m)\u001b[0m\u001b[0;34m,\u001b[0m\u001b[0;34m\u001b[0m\u001b[0;34m\u001b[0m\u001b[0m\n\u001b[0;32m-> 1161\u001b[0;31m                                     raise_missing=raise_missing)\n\u001b[0m\u001b[1;32m   1162\u001b[0m         \u001b[0;32mreturn\u001b[0m \u001b[0mkeyarr\u001b[0m\u001b[0;34m,\u001b[0m \u001b[0mindexer\u001b[0m\u001b[0;34m\u001b[0m\u001b[0;34m\u001b[0m\u001b[0m\n\u001b[1;32m   1163\u001b[0m \u001b[0;34m\u001b[0m\u001b[0m\n",
      "\u001b[0;32m~/nvidia-collab/yairschiff/anaconda3/lib/python3.7/site-packages/pandas/core/indexing.py\u001b[0m in \u001b[0;36m_validate_read_indexer\u001b[0;34m(self, key, indexer, axis, raise_missing)\u001b[0m\n\u001b[1;32m   1244\u001b[0m                 raise KeyError(\n\u001b[1;32m   1245\u001b[0m                     u\"None of [{key}] are in the [{axis}]\".format(\n\u001b[0;32m-> 1246\u001b[0;31m                         key=key, axis=self.obj._get_axis_name(axis)))\n\u001b[0m\u001b[1;32m   1247\u001b[0m \u001b[0;34m\u001b[0m\u001b[0m\n\u001b[1;32m   1248\u001b[0m             \u001b[0;31m# We (temporarily) allow for some missing keys with .loc, except in\u001b[0m\u001b[0;34m\u001b[0m\u001b[0;34m\u001b[0m\u001b[0;34m\u001b[0m\u001b[0m\n",
      "\u001b[0;31mKeyError\u001b[0m: \"None of [Index(['seed', 'step', 'ep', 'time', 'distance', 'result'], dtype='object')] are in the [columns]\""
     ]
    }
   ],
   "source": [
    "results_df_bl = pd.DataFrame(results_list_bl)\n",
    "cols_bl = ['seed', 'step', 'ep', 'time', 'distance', 'result']\n",
    "results_df_bl = results_df_bl[cols_bl]"
   ]
  },
  {
   "cell_type": "markdown",
   "metadata": {},
   "source": [
    "### Filter dataframe"
   ]
  },
  {
   "cell_type": "code",
   "execution_count": 12,
   "metadata": {},
   "outputs": [],
   "source": [
    "# Set filter variables for target_lane results\n",
    "ll = 0.0\n",
    "tl = 1.0\n",
    "seed = 1\n",
    "step = 25000\n",
    "result = 0  # 1 for successes, 0 for failures"
   ]
  },
  {
   "cell_type": "code",
   "execution_count": 17,
   "metadata": {},
   "outputs": [
    {
     "name": "stdout",
     "output_type": "stream",
     "text": [
      "List of failureepisodes for lambda_l: 0.0, lambda_tl: 1.0, seed: 1, step: 25000:\n",
      "190\n",
      "[  1   2   5   6   9  10  12  14  15  17  19  20  21  22  23  25  31  33\n",
      "  34  39  41  43  44  46  50  51  55  59  60  71  73  77  81  82  83  91\n",
      "  93 118 122 123 124 125 131 135 136 143 146 151 159 164 166 167 170 172\n",
      " 175 179 180 181 188 189 192 203 206 208 211 214 217 219 224 225 226 227\n",
      " 229 232 233 234 235 237 239 240 248 252 255 256 262 264 271 276 280 282\n",
      " 283 285 288 290 298 300 305 306 307 309 315 320 323 324 325 329 333 335\n",
      " 336 345 348 350 352 353 358 361 363 366 367 370 374 384 385 386 390 391\n",
      " 392 394 404 405 407 409 410 412 413 414 417 418 420 423 424 433 436 441\n",
      " 448 450 452 454 456 459 461 462 464 465 468 471 472 473 476 480 483 488\n",
      " 490 496 501 503 504 505 509 511 513 515 516 519 522 524 525 526 528 530\n",
      " 532 533 534 538 543 547 550 554 556 561]\n"
     ]
    }
   ],
   "source": [
    "# Perform filter on target_lane results\n",
    "print(f'List of {\"success\" if result else \"failure\"}' +\n",
    "      f'episodes for lambda_l: {ll}, lambda_tl: {tl}, seed: {seed}, step: {step}:')\n",
    "filtered_list_tl = results_df_tl[(results_df_tl.lambda_l == ll) &\n",
    "                                 (results_df_tl.lambda_tl == tl) &\n",
    "                                 (results_df_tl.seed == seed) &\n",
    "                                 (results_df_tl.step == step) &\n",
    "                                 (results_df_tl.result == result)]['ep'].values\n",
    "print(len(filtered_list_tl))\n",
    "print(filtered_list_tl)"
   ]
  },
  {
   "cell_type": "code",
   "execution_count": null,
   "metadata": {},
   "outputs": [],
   "source": [
    "# Set filter variables for baseline results\n",
    "seed = 1\n",
    "step = 115000\n",
    "result = 0  # 1 for successes, 0 for failures"
   ]
  },
  {
   "cell_type": "code",
   "execution_count": null,
   "metadata": {},
   "outputs": [],
   "source": [
    "# Perform filter on baseline results\n",
    "print(f'List of {\"success\" if result else \"failure\"} episodes for baseline - seed: {seed}, step: {step}:')\n",
    "filtered_list_bl = results_df_bl[(results_df_bl.seed == seed) &\n",
    "                                 (results_df_bl.step == step) &\n",
    "                                 (results_df_bl.result == result)]['ep'].values\n",
    "print(len(filtered_list_bl))\n",
    "print(filtered_list_bl)"
   ]
  },
  {
   "cell_type": "code",
   "execution_count": null,
   "metadata": {},
   "outputs": [],
   "source": []
  }
 ],
 "metadata": {
  "kernelspec": {
   "display_name": "Python 3",
   "language": "python",
   "name": "python3"
  },
  "language_info": {
   "codemirror_mode": {
    "name": "ipython",
    "version": 3
   },
   "file_extension": ".py",
   "mimetype": "text/x-python",
   "name": "python",
   "nbconvert_exporter": "python",
   "pygments_lexer": "ipython3",
   "version": "3.7.3"
  }
 },
 "nbformat": 4,
 "nbformat_minor": 2
}
