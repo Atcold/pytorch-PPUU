{
 "cells": [
  {
   "cell_type": "code",
   "execution_count": 1,
   "metadata": {},
   "outputs": [],
   "source": [
    "import os\n",
    "from os import path\n",
    "import pandas as pd"
   ]
  },
  {
   "cell_type": "markdown",
   "metadata": {},
   "source": [
    "### Build results dataframe"
   ]
  },
  {
   "cell_type": "code",
   "execution_count": 2,
   "metadata": {},
   "outputs": [],
   "source": [
    "N = 24\n",
    "tls = [0.5, 0.6, 0.7]\n",
    "seeds = [i for i in range(1, 4)]\n",
    "steps = [(i + 1) * 5000 for i in range(N)]"
   ]
  },
  {
   "cell_type": "code",
   "execution_count": 3,
   "metadata": {},
   "outputs": [],
   "source": [
    "results_list_tl = []\n",
    "performance_path_tl = '/misc/vlgscratch4/LecunGroup/nvidia-collab/yairschiff/pytorch-PPUU/models/planning_results'\n",
    "name_tl = 'MPUR-policy-deterministic-model=vae-zdropout=0.5-nfeature=256-bsize=6-npred=30-ureg=0.05-lambdal=0.2' + \\\n",
    "       '-lambdaa=0.0-gamma=0.99-lrtz=0.0-updatez=0-inferz=False-learnedcost=False-lambdatl={tl}' + \\\n",
    "       '-seed={seed}-novaluestep{step}.model.log'\n",
    "\n",
    "for tl in tls:\n",
    "    for seed in seeds:\n",
    "        for step in steps:\n",
    "            file_name = path.join(performance_path_tl, name_tl.format(tl=tl, seed=seed, step=step))\n",
    "            if os.path.isfile(file_name):\n",
    "                with open(file_name) as f:\n",
    "                    lines = f.readlines()\n",
    "                    for line in lines:\n",
    "                        splits = line.split(\"|\")\n",
    "                        ep = int(splits[0].split(\":\")[-1].split(\"/\")[0].strip())\n",
    "                        time = int(splits[1].split(\":\")[1].strip())\n",
    "                        distance = int(splits[2].split(\":\")[1].strip())\n",
    "                        success_or_failure = int(splits[3].split(\":\")[1].strip())\n",
    "                        df_line = {\n",
    "                            'lambda_tl': tl,\n",
    "                            'seed': seed,\n",
    "                            'step': step,\n",
    "                            'ep': ep,\n",
    "                            'time': time,\n",
    "                            'distance': distance,\n",
    "                            'result': success_or_failure\n",
    "                        }\n",
    "                        results_list_tl.append(df_line)"
   ]
  },
  {
   "cell_type": "code",
   "execution_count": 5,
   "metadata": {},
   "outputs": [],
   "source": [
    "results_df_tl = pd.DataFrame(results_list_tl)\n",
    "cols_tl = ['lambda_tl', 'seed', 'step', 'ep', 'time', 'distance', 'result']\n",
    "results_df_tl = results_df_tl[cols_tl]"
   ]
  },
  {
   "cell_type": "code",
   "execution_count": 6,
   "metadata": {},
   "outputs": [],
   "source": [
    "results_list_bl = []\n",
    "performance_path_bl = '/misc/vlgscratch4/LecunGroup/nvidia-collab/models_v12/planning_results/'\n",
    "name_bl = 'MPUR-policy-deterministic-model=vae-zdropout=0.5-nfeature=256-bsize=6-npred=30-ureg=0.05-' + \\\n",
    "          'lambdal=0.2-lambdaa=0.0-gamma=0.99-lrtz=0.0-updatez=0-inferz=0-learnedcost=1-' + \\\n",
    "          'seed={seed}-novaluestep{step}.model.log'\n",
    "for seed in seeds:\n",
    "    for step in steps:\n",
    "        file_name = path.join(performance_path_bl, name_bl.format(seed=seed, step=step))\n",
    "        if os.path.isfile(file_name):\n",
    "            with open(file_name) as f:\n",
    "                lines = f.readlines()\n",
    "                for line in lines:\n",
    "                    splits = line.split(\"|\")\n",
    "                    ep = int(splits[0].split(\":\")[-1].split(\"/\")[0].strip())\n",
    "                    time = int(splits[1].split(\":\")[1].strip())\n",
    "                    distance = int(splits[2].split(\":\")[1].strip())\n",
    "                    success_or_failure = int(splits[3].split(\":\")[1].strip())\n",
    "                    df_line = {\n",
    "                        'seed': seed,\n",
    "                        'step': step,\n",
    "                        'ep': ep,\n",
    "                        'time': time,\n",
    "                        'distance': distance,\n",
    "                        'result': success_or_failure\n",
    "                    }\n",
    "                    results_list_bl.append(df_line)"
   ]
  },
  {
   "cell_type": "code",
   "execution_count": 7,
   "metadata": {},
   "outputs": [],
   "source": [
    "results_df_bl = pd.DataFrame(results_list_bl)\n",
    "cols_bl = ['seed', 'step', 'ep', 'time', 'distance', 'result']\n",
    "results_df_bl = results_df_bl[cols_bl]"
   ]
  },
  {
   "cell_type": "markdown",
   "metadata": {},
   "source": [
    "### Filter dataframe"
   ]
  },
  {
   "cell_type": "code",
   "execution_count": 8,
   "metadata": {},
   "outputs": [],
   "source": [
    "# Set filter variables for target_lane results\n",
    "tl = 0.6\n",
    "seed = 2\n",
    "step = 80000\n",
    "result = 0  # 1 for successes, 0 for failures"
   ]
  },
  {
   "cell_type": "code",
   "execution_count": 21,
   "metadata": {},
   "outputs": [
    {
     "name": "stdout",
     "output_type": "stream",
     "text": [
      "List of failure episodes for lambda_tl: 0.6, seed: 2, step: 80000:\n",
      "119\n",
      "[  2  14  15  25  29  31  33  39  41  44  46  50  60  73  77  84  93  95\n",
      "  99 116 118 119 122 125 131 132 135 136 137 143 151 152 164 167 170 171\n",
      " 172 179 181 192 203 208 214 217 225 226 227 229 233 234 239 255 262 272\n",
      " 276 278 280 281 289 296 298 307 308 313 314 315 320 323 324 332 333 336\n",
      " 342 345 353 354 356 366 369 373 386 389 390 400 404 409 416 417 423 424\n",
      " 433 437 438 439 456 459 461 462 464 465 471 472 473 476 482 488 501 509\n",
      " 513 517 519 521 524 525 528 532 547 550 561]\n"
     ]
    }
   ],
   "source": [
    "# Perform filter on target_lane results\n",
    "print(f'List of {\"success\" if result else \"failure\"} episodes for lambda_tl: {tl}, seed: {seed}, step: {step}:')\n",
    "filtered_list_tl = results_df_tl[(results_df_tl.lambda_tl == tl) &\n",
    "                                 (results_df_tl.seed == seed) &\n",
    "                                 (results_df_tl.step == step) &\n",
    "                                 (results_df_tl.result == result)]['ep'].values\n",
    "print(len(filtered_list_tl))\n",
    "print(filtered_list_tl)"
   ]
  },
  {
   "cell_type": "code",
   "execution_count": 28,
   "metadata": {},
   "outputs": [],
   "source": [
    "# Set filter variables for baseline results\n",
    "seed = 3\n",
    "step = 80000\n",
    "result = 0  # 1 for successes, 0 for failures"
   ]
  },
  {
   "cell_type": "code",
   "execution_count": 29,
   "metadata": {},
   "outputs": [
    {
     "name": "stdout",
     "output_type": "stream",
     "text": [
      "List of failure episodes for baseline - seed: 3, step: 80000:\n",
      "135\n",
      "[  5  13  18  19  29  32  33  40  48  51  55  57  59  63  74  78  85  89\n",
      "  91  93  99 100 104 108 123 124 128 130 136 143 151 152 154 158 163 165\n",
      " 167 171 172 177 179 184 186 187 190 191 195 196 200 206 209 212 214 216\n",
      " 219 222 228 235 241 242 244 246 253 254 257 263 265 278 286 290 296 297\n",
      " 301 307 308 311 321 325 329 331 332 337 341 342 343 344 345 353 355 361\n",
      " 364 367 371 373 377 380 389 393 399 403 404 408 412 413 414 415 417 427\n",
      " 430 435 436 439 440 448 452 475 478 484 486 487 490 493 508 511 518 522\n",
      " 527 531 536 538 540 547 548 551 558]\n"
     ]
    }
   ],
   "source": [
    "# Perform filter on baseline results\n",
    "print(f'List of {\"success\" if result else \"failure\"} episodes for baseline - seed: {seed}, step: {step}:')\n",
    "filtered_list_bl = results_df_bl[(results_df_bl.seed == seed) &\n",
    "                                 (results_df_bl.step == step) &\n",
    "                                 (results_df_bl.result == result)]['ep'].values\n",
    "print(len(filtered_list_bl))\n",
    "print(filtered_list_bl)"
   ]
  },
  {
   "cell_type": "code",
   "execution_count": null,
   "metadata": {},
   "outputs": [],
   "source": []
  }
 ],
 "metadata": {
  "kernelspec": {
   "display_name": "Python 3",
   "language": "python",
   "name": "python3"
  },
  "language_info": {
   "codemirror_mode": {
    "name": "ipython",
    "version": 3
   },
   "file_extension": ".py",
   "mimetype": "text/x-python",
   "name": "python",
   "nbconvert_exporter": "python",
   "pygments_lexer": "ipython3",
   "version": "3.7.3"
  }
 },
 "nbformat": 4,
 "nbformat_minor": 2
}
