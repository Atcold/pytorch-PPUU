{
 "cells": [
  {
   "cell_type": "markdown",
   "metadata": {},
   "source": [
    "### Imports"
   ]
  },
  {
   "cell_type": "code",
   "execution_count": 1,
   "metadata": {},
   "outputs": [],
   "source": [
    "# from differentiable_cost import proximity_cost\n",
    "import torch\n",
    "import numpy as np\n",
    "from torch.nn.functional import affine_grid, grid_sample\n",
    "from scipy.misc import imread\n",
    "from matplotlib import pyplot as plt"
   ]
  },
  {
   "cell_type": "code",
   "execution_count": 2,
   "metadata": {},
   "outputs": [],
   "source": [
    "def proximity_cost(images, states, car_size=(6.4, 14.3), green_channel=1, unnormalize=False, s_mean=None, s_std=None):\n",
    "    SCALE = 0.25\n",
    "    safe_factor = 1.5\n",
    "    bsize, npred, nchannels, crop_h, crop_w = images.size(0), images.size(1), images.size(2), images.size(\n",
    "        3), images.size(4)\n",
    "    images = images.view(bsize * npred, nchannels, crop_h, crop_w)\n",
    "    states = states.view(bsize * npred, 4).clone()\n",
    "    \n",
    "    if unnormalize:\n",
    "        states = states * (1e-8 + s_std.view(1, 4).expand(states.size())).cuda()\n",
    "        states = states + s_mean.view(1, 4).expand(states.size()).cuda()\n",
    "    speed = states[:, 2:].norm(2, 1) * SCALE  # pixel/s\n",
    "    width, length = car_size[ 0], car_size[ 1]  # feet\n",
    "    width = width * SCALE * (0.3048 * 24 / 3.7)  # pixels\n",
    "    length = length * SCALE * (0.3048 * 24 / 3.7)  # pixels \n",
    "\n",
    "    safe_distance = torch.abs(speed) * safe_factor + (1 * 24 / 3.7) * SCALE  # plus one metre (TODO change)\n",
    "\n",
    "    # Compute x/y minimum distance to other vehicles (pixel version)\n",
    "    # Account for 1 metre overlap (low data accuracy)\n",
    "    alpha = 1 * SCALE * (24 / 3.7)  # 1 m overlap collision\n",
    "    # Create separable proximity mask\n",
    "\n",
    "    max_x = torch.ceil((crop_h - torch.clamp(torch.tensor([length - alpha]), min=0)) / 2)\n",
    "    max_y = torch.ceil((crop_w - torch.clamp(torch.tensor([width - alpha]), min=0)) / 2)\n",
    "    max_x = max_x.view(bsize, 1).expand(bsize, npred).contiguous().view(bsize * npred).cuda()\n",
    "    max_y = max_y.view(bsize, 1).expand(bsize, npred).contiguous().view(bsize * npred).cuda()\n",
    "\n",
    "\n",
    "    min_x = torch.clamp(max_x.cpu() - safe_distance, min=0)\n",
    "    min_y = np.ceil(crop_w / 2 - width)  # assumes other._width / 2 = self._width / 2\n",
    "    min_y = torch.tensor(min_y)\n",
    "    min_y = min_y.view(bsize, 1).expand(bsize, npred).contiguous().view(bsize * npred).cuda()\n",
    "\n",
    "    x_filter = (1 - torch.abs(torch.linspace(-1, 1, crop_h))) * crop_h / 2\n",
    "    x_filter = x_filter.unsqueeze(0).expand(bsize * npred, crop_h).cuda()\n",
    "    x_filter = torch.min(x_filter, max_x.view(bsize * npred, 1).expand(x_filter.size()))\n",
    "    x_filter = torch.max(x_filter.cpu(), min_x.view(bsize * npred, 1).cpu())\n",
    "\n",
    "    max_x = max_x.cpu()\n",
    "    x_filter = (x_filter - min_x.view(bsize * npred, 1)) / (max_x - min_x).view(bsize * npred, 1)\n",
    "    y_filter = (1 - torch.abs(torch.linspace(-1, 1, crop_w))) * crop_w / 2\n",
    "    y_filter = y_filter.view(1, crop_w).expand(bsize * npred, crop_w).cuda()\n",
    "    y_filter = torch.min(y_filter, max_y.view(bsize * npred, 1))\n",
    "    y_filter = torch.max(y_filter, min_y.view(bsize * npred, 1))\n",
    "    y_filter = (y_filter - min_y.view(bsize * npred, 1)) / (max_y.view(bsize * npred, 1) - min_y.view(bsize * npred, 1))\n",
    "    x_filter = x_filter.cpu()\n",
    "    y_filter = y_filter.cpu()\n",
    "    proximity_mask = torch.bmm(x_filter.view(-1, crop_h, 1), y_filter.view(-1, 1, crop_w))\n",
    "    proximity_mask = proximity_mask.view(bsize, npred, crop_h, crop_w) * safe_distance\n",
    "    images = images.view(bsize, npred, nchannels, crop_h, crop_w)\n",
    "#     ipdb.set_trace()\n",
    "    costs = torch.max((proximity_mask.cpu() * images[:,:, green_channel].float().cpu()).view(bsize, npred, -1), 2)[0]\n",
    "    #    costs = torch.sum((proximity_mask * images[:, :, green_channel].float()).view(bsize, npred, -1), 2)\n",
    "    #    costs = torch.max((proximity_mask * images[:, :, green_channel].float()).view(bsize, npred, -1), 2)[0]\n",
    "    vertical_diff = proximity_mask[:,:,1:,:] - proximity_mask[:,:,:-1,:]\n",
    "    horizontal_diff = proximity_mask[:,:,:,1:] - proximity_mask[:,:,:,:-1]\n",
    "    return costs.cpu(), proximity_mask.cpu(), vertical_diff, horizontal_diff\n"
   ]
  },
  {
   "cell_type": "markdown",
   "metadata": {},
   "source": [
    "## Debug functions"
   ]
  },
  {
   "cell_type": "markdown",
   "metadata": {},
   "source": [
    "These two functions alow us to backpropagate our cost to an affine transformation. We look at the gradient at the identity transformation"
   ]
  },
  {
   "cell_type": "code",
   "execution_count": 3,
   "metadata": {},
   "outputs": [],
   "source": [
    "def test(image, green_channel, speed=40):\n",
    "    state = torch.zeros((4))\n",
    "    state[2] = speed\n",
    "    state[3] = 0.\n",
    "    image_var = torch.tensor(image, requires_grad=True)\n",
    "    trans = torch.tensor([[[.999, 0., 0.], [0., .999, 0.0]]], requires_grad=True)\n",
    "    grid = affine_grid(trans, torch.Size((1, 3, 117, 24)))\n",
    "    future_context = grid_sample(image_var[0].float(), grid)\n",
    "    cost, mask, vertical_diff, horizontal_diff = proximity_cost(future_context.unsqueeze(0)/255., state.unsqueeze(0), green_channel=green_channel)\n",
    "    future_context.retain_grad()\n",
    "    grid.retain_grad()\n",
    "    trans.retain_grad()\n",
    "    cost.backward(retain_graph=True)\n",
    "    \n",
    "    return future_context, mask, trans.grad, vertical_diff, horizontal_diff"
   ]
  },
  {
   "cell_type": "code",
   "execution_count": 4,
   "metadata": {},
   "outputs": [],
   "source": [
    "def plot_test(image, green_channel=1, speed=40):\n",
    "    future_context, mask, trans_grad, vertical_diff, horizontal_diff= test(image, green_channel, speed)\n",
    "    plt.figure(figsize=(15,5))\n",
    "    plt.subplot(161)\n",
    "    plt.imshow(mask[0][0])\n",
    "    plt.subplot(162)\n",
    "    plt.imshow(image[0][0].permute((1,2,0))/255.)\n",
    "    plt.subplot(163)\n",
    "    plt.imshow((mask[0]*future_context.detach()[0]).permute((1,2,0)).numpy().astype(int))\n",
    "    plt.subplot(164)\n",
    "    plt.imshow(vertical_diff[0][0])\n",
    "    plt.subplot(165)\n",
    "    plt.imshow(horizontal_diff[0][0])\n",
    "    print(f'vertical diff max: {vertical_diff.max().item():.5}')\n",
    "    print(f'horizontal diff max: {horizontal_diff.max().item():.5}')\n",
    "    print(f'mask max: {mask.max().item():.5}')\n",
    "    print(f'cost (max value): {(mask[0]*future_context.detach()[0]).max().item():.5}')\n",
    "    return vertical_diff, horizontal_diff"
   ]
  },
  {
   "cell_type": "code",
   "execution_count": 5,
   "metadata": {},
   "outputs": [
    {
     "name": "stderr",
     "output_type": "stream",
     "text": [
      "/home/serkan/anaconda3/lib/python3.7/site-packages/ipykernel_launcher.py:5: UserWarning: To copy construct from a tensor, it is recommended to use sourceTensor.clone().detach() or sourceTensor.clone().detach().requires_grad_(True), rather than torch.tensor(sourceTensor).\n",
      "  \"\"\"\n",
      "Clipping input data to the valid range for imshow with RGB data ([0..1] for floats or [0..255] for integers).\n"
     ]
    },
    {
     "name": "stdout",
     "output_type": "stream",
     "text": [
      "vertical diff max: 0.83321\n",
      "horizontal diff max: 13.608\n",
      "mask max: 32.318\n",
      "cost (max value): 6794.0\n"
     ]
    },
    {
     "data": {
      "image/png": "[encoded data removed]",
      "text/plain": [
       "<Figure size 1080x360 with 5 Axes>"
      ]
     },
     "metadata": {
      "needs_background": "light"
     },
     "output_type": "display_data"
    }
   ],
   "source": [
    "image = torch.ones((1, 1, 3, 117, 24))\n",
    "image[0, 0, 1, 40:50, 10:14] = 255.\n",
    "vertical_diff, horizontal_diff = plot_test(image, speed=100)"
   ]
  },
  {
   "cell_type": "code",
   "execution_count": 6,
   "metadata": {},
   "outputs": [
    {
     "name": "stdout",
     "output_type": "stream",
     "text": [
      "tensor([[ 0.1316,  0.4824,  0.8332,  0.8332,  0.4824,  0.1316],\n",
      "        [ 0.1316,  0.4824,  0.8332,  0.8332,  0.4824,  0.1316],\n",
      "        [ 0.1316,  0.4824,  0.8332,  0.8332,  0.4824,  0.1316],\n",
      "        [ 0.1316,  0.4824,  0.8332,  0.8332,  0.4824,  0.1316],\n",
      "        [ 0.1316,  0.4824,  0.8332,  0.8332,  0.4824,  0.1316],\n",
      "        [ 0.1316,  0.4824,  0.8332,  0.8332,  0.4824,  0.1316],\n",
      "        [ 0.1316,  0.4824,  0.8332,  0.8332,  0.4824,  0.1316],\n",
      "        [ 0.1316,  0.4824,  0.8332,  0.8332,  0.4824,  0.1316],\n",
      "        [ 0.1316,  0.4824,  0.8332,  0.8332,  0.4824,  0.1316],\n",
      "        [ 0.1316,  0.4824,  0.8332,  0.8332,  0.4824,  0.1316],\n",
      "        [ 0.1316,  0.4824,  0.8332,  0.8332,  0.4824,  0.1316],\n",
      "        [ 0.1316,  0.4824,  0.8332,  0.8332,  0.4824,  0.1316],\n",
      "        [ 0.1316,  0.4824,  0.8332,  0.8332,  0.4824,  0.1316],\n",
      "        [ 0.1316,  0.4824,  0.8332,  0.8332,  0.4824,  0.1316],\n",
      "        [ 0.1316,  0.4824,  0.8332,  0.8332,  0.4824,  0.1316],\n",
      "        [ 0.1316,  0.4824,  0.8332,  0.8332,  0.4824,  0.1316],\n",
      "        [ 0.1316,  0.4824,  0.8332,  0.8332,  0.4824,  0.1316],\n",
      "        [ 0.1316,  0.4824,  0.8332,  0.8332,  0.4824,  0.1316],\n",
      "        [ 0.1316,  0.4824,  0.8332,  0.8332,  0.4824,  0.1316],\n",
      "        [ 0.1316,  0.4824,  0.8332,  0.8332,  0.4824,  0.1316],\n",
      "        [ 0.1316,  0.4824,  0.8332,  0.8332,  0.4824,  0.1316],\n",
      "        [ 0.1316,  0.4824,  0.8332,  0.8332,  0.4824,  0.1316],\n",
      "        [ 0.1316,  0.4824,  0.8332,  0.8332,  0.4824,  0.1316],\n",
      "        [ 0.1316,  0.4824,  0.8332,  0.8332,  0.4824,  0.1316],\n",
      "        [ 0.1316,  0.4824,  0.8332,  0.8332,  0.4824,  0.1316],\n",
      "        [ 0.0686,  0.2515,  0.4344,  0.4344,  0.2515,  0.0686],\n",
      "        [ 0.0000,  0.0000,  0.0000,  0.0000,  0.0000,  0.0000],\n",
      "        [ 0.0000,  0.0000,  0.0000,  0.0000,  0.0000,  0.0000],\n",
      "        [ 0.0000,  0.0000,  0.0000,  0.0000,  0.0000,  0.0000],\n",
      "        [ 0.0000,  0.0000,  0.0000,  0.0000,  0.0000,  0.0000],\n",
      "        [-0.0686, -0.2515, -0.4344, -0.4344, -0.2515, -0.0686],\n",
      "        [-0.1316, -0.4824, -0.8332, -0.8332, -0.4824, -0.1316],\n",
      "        [-0.1316, -0.4824, -0.8332, -0.8332, -0.4824, -0.1316],\n",
      "        [-0.1316, -0.4824, -0.8332, -0.8332, -0.4824, -0.1316],\n",
      "        [-0.1316, -0.4824, -0.8332, -0.8332, -0.4824, -0.1316],\n",
      "        [-0.1316, -0.4824, -0.8332, -0.8332, -0.4824, -0.1316],\n",
      "        [-0.1316, -0.4824, -0.8332, -0.8332, -0.4824, -0.1316],\n",
      "        [-0.1316, -0.4824, -0.8332, -0.8332, -0.4824, -0.1316],\n",
      "        [-0.1316, -0.4824, -0.8332, -0.8332, -0.4824, -0.1316],\n",
      "        [-0.1316, -0.4824, -0.8332, -0.8332, -0.4824, -0.1316],\n",
      "        [-0.1316, -0.4824, -0.8332, -0.8332, -0.4824, -0.1316],\n",
      "        [-0.1316, -0.4824, -0.8332, -0.8332, -0.4824, -0.1316],\n",
      "        [-0.1316, -0.4824, -0.8332, -0.8332, -0.4824, -0.1316],\n",
      "        [-0.1316, -0.4824, -0.8332, -0.8332, -0.4824, -0.1316],\n",
      "        [-0.1316, -0.4824, -0.8332, -0.8332, -0.4824, -0.1316],\n",
      "        [-0.1316, -0.4824, -0.8332, -0.8332, -0.4824, -0.1316],\n",
      "        [-0.1316, -0.4824, -0.8332, -0.8332, -0.4824, -0.1316],\n",
      "        [-0.1316, -0.4824, -0.8332, -0.8332, -0.4824, -0.1316],\n",
      "        [-0.1316, -0.4824, -0.8332, -0.8332, -0.4824, -0.1316],\n",
      "        [-0.1316, -0.4824, -0.8332, -0.8332, -0.4824, -0.1316]])\n"
     ]
    }
   ],
   "source": [
    "print(vertical_diff[0,0,30:80,9:15])"
   ]
  },
  {
   "cell_type": "code",
   "execution_count": 7,
   "metadata": {},
   "outputs": [
    {
     "name": "stderr",
     "output_type": "stream",
     "text": [
      "/home/serkan/anaconda3/lib/python3.7/site-packages/ipykernel_launcher.py:5: UserWarning: To copy construct from a tensor, it is recommended to use sourceTensor.clone().detach() or sourceTensor.clone().detach().requires_grad_(True), rather than torch.tensor(sourceTensor).\n",
      "  \"\"\"\n",
      "Clipping input data to the valid range for imshow with RGB data ([0..1] for floats or [0..255] for integers).\n"
     ]
    },
    {
     "name": "stdout",
     "output_type": "stream",
     "text": [
      "vertical diff max: 0.83321\n",
      "horizontal diff max: 3.8249\n",
      "mask max: 9.0842\n",
      "cost (max value): 922.54\n"
     ]
    },
    {
     "data": {
      "image/png": "[encoded data removed]",
      "text/plain": [
       "<Figure size 1080x360 with 5 Axes>"
      ]
     },
     "metadata": {
      "needs_background": "light"
     },
     "output_type": "display_data"
    }
   ],
   "source": [
    "image = torch.ones((1, 1, 3, 117, 24))\n",
    "image[0, 0, 1, 40:50, 10:14] = 255.\n",
    "vertical_diff, horizontal_diff = plot_test(image, speed=25)"
   ]
  },
  {
   "cell_type": "code",
   "execution_count": 8,
   "metadata": {},
   "outputs": [
    {
     "name": "stdout",
     "output_type": "stream",
     "text": [
      "tensor([[ 0.0000,  0.0000,  0.0000,  0.0000,  0.0000,  0.0000],\n",
      "        [ 0.0000,  0.0000,  0.0000,  0.0000,  0.0000,  0.0000],\n",
      "        [ 0.0000,  0.0000,  0.0000,  0.0000,  0.0000,  0.0000],\n",
      "        [ 0.0000,  0.0000,  0.0000,  0.0000,  0.0000,  0.0000],\n",
      "        [ 0.0000,  0.0000,  0.0000,  0.0000,  0.0000,  0.0000],\n",
      "        [ 0.0000,  0.0000,  0.0000,  0.0000,  0.0000,  0.0000],\n",
      "        [ 0.0000,  0.0000,  0.0000,  0.0000,  0.0000,  0.0000],\n",
      "        [ 0.0000,  0.0000,  0.0000,  0.0000,  0.0000,  0.0000],\n",
      "        [ 0.0000,  0.0000,  0.0000,  0.0000,  0.0000,  0.0000],\n",
      "        [ 0.0000,  0.0000,  0.0000,  0.0000,  0.0000,  0.0000],\n",
      "        [ 0.0000,  0.0000,  0.0000,  0.0000,  0.0000,  0.0000],\n",
      "        [ 0.0000,  0.0000,  0.0000,  0.0000,  0.0000,  0.0000],\n",
      "        [ 0.0000,  0.0000,  0.0000,  0.0000,  0.0000,  0.0000],\n",
      "        [ 0.0000,  0.0000,  0.0000,  0.0000,  0.0000,  0.0000],\n",
      "        [ 0.0502,  0.1839,  0.3177,  0.3177,  0.1839,  0.0502],\n",
      "        [ 0.1316,  0.4824,  0.8332,  0.8332,  0.4824,  0.1316],\n",
      "        [ 0.1316,  0.4824,  0.8332,  0.8332,  0.4824,  0.1316],\n",
      "        [ 0.1316,  0.4824,  0.8332,  0.8332,  0.4824,  0.1316],\n",
      "        [ 0.1316,  0.4824,  0.8332,  0.8332,  0.4824,  0.1316],\n",
      "        [ 0.1316,  0.4824,  0.8332,  0.8332,  0.4824,  0.1316],\n",
      "        [ 0.1316,  0.4824,  0.8332,  0.8332,  0.4824,  0.1316],\n",
      "        [ 0.1316,  0.4824,  0.8332,  0.8332,  0.4824,  0.1316],\n",
      "        [ 0.1316,  0.4824,  0.8332,  0.8332,  0.4824,  0.1316],\n",
      "        [ 0.1316,  0.4824,  0.8332,  0.8332,  0.4824,  0.1316],\n",
      "        [ 0.1316,  0.4824,  0.8332,  0.8332,  0.4824,  0.1316],\n",
      "        [ 0.0686,  0.2515,  0.4344,  0.4344,  0.2515,  0.0686],\n",
      "        [ 0.0000,  0.0000,  0.0000,  0.0000,  0.0000,  0.0000],\n",
      "        [ 0.0000,  0.0000,  0.0000,  0.0000,  0.0000,  0.0000],\n",
      "        [ 0.0000,  0.0000,  0.0000,  0.0000,  0.0000,  0.0000],\n",
      "        [ 0.0000,  0.0000,  0.0000,  0.0000,  0.0000,  0.0000],\n",
      "        [-0.0686, -0.2515, -0.4344, -0.4344, -0.2515, -0.0686],\n",
      "        [-0.1316, -0.4824, -0.8332, -0.8332, -0.4824, -0.1316],\n",
      "        [-0.1316, -0.4824, -0.8332, -0.8332, -0.4824, -0.1316],\n",
      "        [-0.1316, -0.4824, -0.8332, -0.8332, -0.4824, -0.1316],\n",
      "        [-0.1316, -0.4824, -0.8332, -0.8332, -0.4824, -0.1316],\n",
      "        [-0.1316, -0.4824, -0.8332, -0.8332, -0.4824, -0.1316],\n",
      "        [-0.1316, -0.4824, -0.8332, -0.8332, -0.4824, -0.1316],\n",
      "        [-0.1316, -0.4824, -0.8332, -0.8332, -0.4824, -0.1316],\n",
      "        [-0.1316, -0.4824, -0.8332, -0.8332, -0.4824, -0.1316],\n",
      "        [-0.1316, -0.4824, -0.8332, -0.8332, -0.4824, -0.1316],\n",
      "        [-0.1316, -0.4824, -0.8332, -0.8332, -0.4824, -0.1316],\n",
      "        [-0.0502, -0.1839, -0.3177, -0.3177, -0.1839, -0.0502],\n",
      "        [ 0.0000,  0.0000,  0.0000,  0.0000,  0.0000,  0.0000],\n",
      "        [ 0.0000,  0.0000,  0.0000,  0.0000,  0.0000,  0.0000],\n",
      "        [ 0.0000,  0.0000,  0.0000,  0.0000,  0.0000,  0.0000],\n",
      "        [ 0.0000,  0.0000,  0.0000,  0.0000,  0.0000,  0.0000],\n",
      "        [ 0.0000,  0.0000,  0.0000,  0.0000,  0.0000,  0.0000],\n",
      "        [ 0.0000,  0.0000,  0.0000,  0.0000,  0.0000,  0.0000],\n",
      "        [ 0.0000,  0.0000,  0.0000,  0.0000,  0.0000,  0.0000],\n",
      "        [ 0.0000,  0.0000,  0.0000,  0.0000,  0.0000,  0.0000]])\n"
     ]
    }
   ],
   "source": [
    "print(vertical_diff[0,0,30:80,9:15])"
   ]
  },
  {
   "cell_type": "code",
   "execution_count": null,
   "metadata": {},
   "outputs": [],
   "source": []
  }
 ],
 "metadata": {
  "jupytext": {
   "formats": "ipynb,py:light"
  },
  "kernelspec": {
   "display_name": "Python 3",
   "language": "python",
   "name": "python3"
  },
  "language_info": {
   "codemirror_mode": {
    "name": "ipython",
    "version": 3
   },
   "file_extension": ".py",
   "mimetype": "text/x-python",
   "name": "python",
   "nbconvert_exporter": "python",
   "pygments_lexer": "ipython3",
   "version": "3.7.3"
  }
 },
 "nbformat": 4,
 "nbformat_minor": 2
}
